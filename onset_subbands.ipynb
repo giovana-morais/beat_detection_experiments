{
 "cells": [
  {
   "cell_type": "code",
   "execution_count": null,
   "id": "4a431e31",
   "metadata": {},
   "outputs": [],
   "source": [
    "import librosa\n",
    "import librosa.display\n",
    "import numpy as np\n",
    "import madmom\n",
    "import matplotlib.pyplot as plt\n",
    "import mir_eval\n",
    "\n",
    "import IPython.display as ipd"
   ]
  },
  {
   "cell_type": "code",
   "execution_count": null,
   "id": "154bd84c",
   "metadata": {},
   "outputs": [],
   "source": [
    "FS = 44100"
   ]
  },
  {
   "cell_type": "code",
   "execution_count": null,
   "id": "c4970368",
   "metadata": {},
   "outputs": [],
   "source": [
    "candombe_audio_path = '../datasets/candombe/csic.1995_ansina2_04.wav'"
   ]
  },
  {
   "cell_type": "code",
   "execution_count": null,
   "id": "208347df",
   "metadata": {},
   "outputs": [],
   "source": [
    "candombe, _ = librosa.load(candombe_audio_path, sr=FS)"
   ]
  },
  {
   "cell_type": "code",
   "execution_count": null,
   "id": "834b3f2c",
   "metadata": {},
   "outputs": [],
   "source": [
    "x_df = pd.read_csv(candombe_audio_path.replace('.wav', '.csv'), names=[\"timestamp\", \"beat\"])\n",
    "ground_truth = x_df['timestamp'].values"
   ]
  },
  {
   "cell_type": "code",
   "execution_count": null,
   "id": "ffe27a91",
   "metadata": {},
   "outputs": [],
   "source": [
    "# cálculo padrão dos beats\n",
    "bpm, beat_frame = librosa.beat.beat_track(candombe, FS)\n",
    "librosa_timestamps = librosa.frames_to_time(beat_frame, FS)"
   ]
  },
  {
   "cell_type": "code",
   "execution_count": null,
   "id": "147b7e0c",
   "metadata": {},
   "outputs": [],
   "source": [
    "# calculando os onsets em sub-bandas diferentes\n",
    "onset_subbands = librosa.onset.onset_strength_multi(y=x, sr=FS, channels=[0, 32, 64, 96, 128])\n",
    "\n",
    "_, beat_frame_0 = librosa.beat.beat_track(onset_envelope=onset_subbands[0], sr=FS)\n",
    "librosa_timestamps_0 = librosa.frames_to_time(beat_frame_0, FS)\n",
    "\n",
    "_, beat_frame_1 = librosa.beat.beat_track(onset_envelope=onset_subbands[1], sr=FS)\n",
    "librosa_timestamps_1 = librosa.frames_to_time(beat_frame_1, FS)\n",
    "\n",
    "_, beat_frame_2 = librosa.beat.beat_track(onset_envelope=onset_subbands[2], sr=FS)\n",
    "librosa_timestamps_2 = librosa.frames_to_time(beat_frame_2, FS)\n",
    "\n",
    "_, beat_frame_3 = librosa.beat.beat_track(onset_envelope=onset_subbands[3], sr=FS)\n",
    "librosa_timestamps_3 = librosa.frames_to_time(beat_frame_3, FS)\n",
    "\n",
    "start = 5\n",
    "end = 10\n",
    "\n",
    "fig, ax = plt.subplots(nrows=1, sharex=True)\n",
    "ax.plot(x[start*fs:end*fs], label='waveform')\n",
    "\n",
    "ax.vlines(\n",
    "    (tmp[\"ground_truth_beats\"][(tmp[\"ground_truth_beats\"] >= start) & (tmp[\"ground_truth_beats\"] <= end)]-start)*fs, \n",
    "          0, 1, alpha=0.5, color='r', linestyle='--', label='groundtruth'\n",
    ")\n",
    "\n",
    "ax.vlines(\n",
    "    (librosa_timestamps_0[(librosa_timestamps_0 >= start) & (librosa_timestamps_0 <= end)]-start)*fs, \n",
    "    0, 1, alpha=0.5, color='g', linestyle='--', label='subband_0')\n",
    "\n",
    "ax.vlines(\n",
    "    (librosa_timestamps_1[(librosa_timestamps_1 >= start) & (librosa_timestamps_1 <= end)]-start)*fs, \n",
    "    0, 1, alpha=0.5, color='b', linestyle='--', label='subband_1')\n",
    "\n",
    "ax.vlines(\n",
    "    (librosa_timestamps_2[(librosa_timestamps_2 >= start) & (librosa_timestamps_2 <= end)]-start)*fs, \n",
    "    0, 1, alpha=0.5, color='b', linestyle='dotted', label='subband_2')\n",
    "ax.vlines(\n",
    "    (librosa_timestamps_3[(librosa_timestamps_3 >= start) & (librosa_timestamps_3 <= end)]-start)*fs, \n",
    "    0, 1, alpha=0.5, color='g', linestyle='-.', label='subband_3')\n",
    "\n",
    "ax.legend()"
   ]
  }
 ],
 "metadata": {
  "kernelspec": {
   "display_name": "Python 3",
   "language": "python",
   "name": "python3"
  },
  "language_info": {
   "codemirror_mode": {
    "name": "ipython",
    "version": 3
   },
   "file_extension": ".py",
   "mimetype": "text/x-python",
   "name": "python",
   "nbconvert_exporter": "python",
   "pygments_lexer": "ipython3",
   "version": "3.8.6"
  }
 },
 "nbformat": 4,
 "nbformat_minor": 5
}
