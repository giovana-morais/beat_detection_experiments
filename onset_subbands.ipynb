{
 "cells": [
  {
   "cell_type": "markdown",
   "id": "99bc9af9",
   "metadata": {},
   "source": [
    "## Objetivo:\n",
    "Entender como as sub-bandas alteram a detecção de onsets e se tem alguma em específico que consiga pegar a informação do instrumento que acaba carregando a informação de tempo da música toda."
   ]
  },
  {
   "cell_type": "code",
   "execution_count": null,
   "id": "4a431e31",
   "metadata": {},
   "outputs": [],
   "source": [
    "import glob\n",
    "import librosa\n",
    "import librosa.display\n",
    "import numpy as np\n",
    "import matplotlib.pyplot as plt\n",
    "import mir_eval\n",
    "import pandas as pd\n",
    "\n",
    "import IPython.display as ipd"
   ]
  },
  {
   "cell_type": "code",
   "execution_count": null,
   "id": "c9b21a8b",
   "metadata": {},
   "outputs": [],
   "source": [
    "plt.rcParams[\"figure.figsize\"] = (15,10)"
   ]
  },
  {
   "cell_type": "code",
   "execution_count": null,
   "id": "154bd84c",
   "metadata": {},
   "outputs": [],
   "source": [
    "FS = 44100\n",
    "CHANNELS = [0, 8, 32, 64, 128]"
   ]
  },
  {
   "cell_type": "markdown",
   "id": "14f170d8",
   "metadata": {},
   "source": [
    "Primeiro, vamos pegar alguns áudios cuja performance não foi tão boa ao usarmos a detecção de onset sem distinção de faixas de frequência e tentar novamente separando."
   ]
  },
  {
   "cell_type": "code",
   "execution_count": null,
   "id": "c4970368",
   "metadata": {},
   "outputs": [],
   "source": [
    "candombe_audio_path = '../datasets/candombe/csic.1995_ansina2_04.wav'\n",
    "candombe, _ = librosa.load(candombe_audio_path, sr=FS)\n",
    "\n",
    "x_df = pd.read_csv(candombe_audio_path.replace('.wav', '.csv'), names=[\"timestamp\", \"beat\"])\n",
    "ground_truth = x_df['timestamp'].values"
   ]
  },
  {
   "cell_type": "code",
   "execution_count": null,
   "id": "b5c99611",
   "metadata": {},
   "outputs": [],
   "source": [
    "START = 20\n",
    "STOP = 30"
   ]
  },
  {
   "cell_type": "code",
   "execution_count": null,
   "id": "5b19ecd1",
   "metadata": {},
   "outputs": [],
   "source": [
    "onset_subbands = librosa.onset.onset_strength_multi(y=candombe[START*FS:STOP*FS], sr=FS, channels=CHANNELS)\n",
    "times = librosa.times_like(onset_subbands, sr=FS)\n",
    "true_beats = ground_truth[(ground_truth >= START) & (ground_truth < STOP)] - START\n",
    "onset_frames = []\n",
    "\n",
    "for i in range(onset_subbands.shape[0]):\n",
    "    onset_frames.append(librosa.onset.onset_detect(onset_envelope=onset_subbands[i], sr=FS))\n",
    "\n",
    "# cálculo padrão dos beats\n",
    "beat_frames = []\n",
    "\n",
    "for i in range(len(onset_subbands)):\n",
    "    _, beats = librosa.beat.beat_track(onset_envelope=onset_subbands[i], sr=FS)\n",
    "    beat_frames.append(beats)\n",
    "\"\"\"\n",
    "for i in range(len(onset_subbands)):\n",
    "    print(f\"{'*'*10} subband {i} {'*'*10}\")\n",
    "    print(f\"fmeasure {mir_eval.beat.f_measure(ground_truth, librosa.frames_to_time(beat_frames[i], FS))}\")\n",
    "    CMLc, CMLt, AMLc, AMLt = mir_eval.beat.continuity(ground_truth, librosa.frames_to_time(beat_frames[i], FS))\n",
    "    print(f\"CMLc = {CMLc}\\nCMLt = {CMLt}\\nAMLc = {AMLc}\\nAMLt = {AMLt}\")\n",
    "\"\"\"\n",
    "\n",
    "num_plots = onset_subbands.shape[0]\n",
    "fig, ax = plt.subplots(nrows=num_plots, sharex=True)\n",
    "\n",
    "for i in range(num_plots):\n",
    "    ax[i].set_title(f\"subband_{i}\")\n",
    "    ax[i].plot(times, onset_subbands[i], alpha=0.3, label=f'subband_{i}')\n",
    "    ax[i].vlines(times[onset_frames[i]], 0, onset_subbands[i].max(), alpha=0.3, color='r', linestyle='--', label='onsets')\n",
    "    ax[i].vlines(times[beat_frames[i]], 0, onset_subbands[i].max(), alpha=0.9, color='g', label='detected beat')\n",
    "    ax[i].vlines(true_beats, 0, onset_subbands[i].max(), color='b', alpha=0.9, label='true beat')\n",
    "    \n",
    "fig.legend()"
   ]
  },
  {
   "cell_type": "code",
   "execution_count": null,
   "id": "46a3faf7",
   "metadata": {},
   "outputs": [],
   "source": [
    "song = '../datasets/candombe/csic.1995_ansina2_01.wav'\n",
    "\n",
    "x2, _ = librosa.load(song, mono=True, sr=FS)\n",
    "x2_df = pd.read_csv(candombe_audio_path.replace('.wav', '.csv'), names=[\"timestamp\", \"beat\"])\n",
    "ground_truth2 = x2_df['timestamp'].values\n",
    "true_beats = ground_truth[(ground_truth >= START) & (ground_truth < STOP)] - START\n",
    "\n",
    "onset_subbands = librosa.onset.onset_strength_multi(y=x2[START*FS:STOP*FS], sr=FS, channels=CHANNELS)\n",
    "times = librosa.times_like(onset_subbands, sr=FS)\n",
    "onset_frames = []\n",
    "\n",
    "for i in range(onset_subbands.shape[0]):\n",
    "    onset_frames.append(librosa.onset.onset_detect(onset_envelope=onset_subbands[i], sr=FS))\n",
    "\n",
    "# cálculo padrão dos beats\n",
    "beat_frames = []\n",
    "\n",
    "for i in range(len(onset_subbands)):\n",
    "    _, beats = librosa.beat.beat_track(onset_envelope=onset_subbands[i], sr=FS)\n",
    "    beat_frames.append(beats)\n",
    "\"\"\"\n",
    "for i in range(len(onset_subbands)):\n",
    "    print(f\"{'*'*10} subband {i} {'*'*10}\")\n",
    "    print(f\"fmeasure {mir_eval.beat.f_measure(ground_truth2, librosa.frames_to_time(beat_frames[i], FS))}\")\n",
    "    CMLc, CMLt, AMLc, AMLt = mir_eval.beat.continuity(ground_truth2, librosa.frames_to_time(beat_frames[i], FS))\n",
    "    print(f\"CMLc = {CMLc}\\nCMLt = {CMLt}\\nAMLc = {AMLc}\\nAMLt = {AMLt}\")\n",
    "\"\"\"    \n",
    "\n",
    "num_plots = onset_subbands.shape[0]\n",
    "fig, ax = plt.subplots(nrows=num_plots, sharex=True)\n",
    "\n",
    "for i in range(num_plots):    \n",
    "    ax[i].set_title(f\"subband_{i}\")\n",
    "    ax[i].plot(times, onset_subbands[i], alpha=0.3, label=f'subband_{i}')\n",
    "    ax[i].vlines(times[onset_frames[i]], 0, onset_subbands[i].max(), alpha=0.3, color='r', linestyle='--', label='onsets')\n",
    "    ax[i].vlines(times[beat_frames[i]], 0, onset_subbands[i].max(), alpha=0.9, color='g', label='detected beat')\n",
    "    ax[i].vlines(true_beats, 0, onset_subbands[i].max(), color='b', alpha=0.9, label='true beat')\n",
    "    \n",
    "fig.legend()"
   ]
  },
  {
   "cell_type": "code",
   "execution_count": null,
   "id": "9337875e",
   "metadata": {},
   "outputs": [],
   "source": [
    "# good performance song\n",
    "song = '../datasets/candombe/zavala.muniz.2014_52.wav'\n",
    "\n",
    "x2, _ = librosa.load(song, mono=True, sr=FS)\n",
    "x2_df = pd.read_csv(candombe_audio_path.replace('.wav', '.csv'), names=[\"timestamp\", \"beat\"])\n",
    "ground_truth2 = x2_df['timestamp'].values\n",
    "\n",
    "onset_subbands = librosa.onset.onset_strength_multi(y=x2[START*FS:STOP*FS], sr=FS, channels=[0, 4, 8, 64, 128])\n",
    "times = librosa.times_like(onset_subbands, sr=FS)\n",
    "true_beats = ground_truth2[(ground_truth2 >= START) & (ground_truth2 < STOP)] - START\n",
    "onset_frames = []\n",
    "\n",
    "for i in range(onset_subbands.shape[0]):\n",
    "    onset_frames.append(librosa.onset.onset_detect(onset_envelope=onset_subbands[i], sr=FS))\n",
    "\n",
    "# cálculo padrão dos beats\n",
    "beat_frames = []\n",
    "\n",
    "for i in range(len(onset_subbands)):\n",
    "    _, beats = librosa.beat.beat_track(onset_envelope=onset_subbands[i], sr=FS)\n",
    "    beat_frames.append(beats)\n",
    "\n",
    "num_plots = onset_subbands.shape[0]\n",
    "fig, ax = plt.subplots(nrows=num_plots, sharex=True)\n",
    "\n",
    "for i in range(num_plots):\n",
    "    ax[i].set_title(f\"subband_{i}\")\n",
    "    ax[i].plot(times, onset_subbands[i], alpha=0.4, label=f'subband_{i}')\n",
    "    ax[i].vlines(times[onset_frames[i]], 0, onset_subbands[i].max(), alpha=0.4, color='r', linestyle='--', label='onsets')\n",
    "    ax[i].vlines(times[beat_frames[i]], 0, onset_subbands[i].max(), alpha=0.9, color='g', label='detected beat')\n",
    "    ax[i].vlines(true_beats, 0, onset_subbands[i].max(), color='b', alpha=0.9, label='true beat')\n",
    "    \n",
    "fig.legend()"
   ]
  },
  {
   "cell_type": "code",
   "execution_count": null,
   "id": "3c1fa5c6",
   "metadata": {},
   "outputs": [],
   "source": [
    "for i in range(len(onset_subbands)):\n",
    "    print(f\"{'*'*10} subband {i} {'*'*10}\")\n",
    "    print(f\"fmeasure {mir_eval.beat.f_measure(true_beats, librosa.frames_to_time(beat_frames[i], FS))}\")\n",
    "    CMLc, CMLt, AMLc, AMLt = mir_eval.beat.continuity(true_beats, librosa.frames_to_time(beat_frames[i], FS))\n",
    "    print(f\"CMLc = {CMLc}\\nCMLt = {CMLt}\\nAMLc = {AMLc}\\nAMLt = {AMLt}\")"
   ]
  },
  {
   "cell_type": "markdown",
   "id": "a48cbeef",
   "metadata": {},
   "source": [
    "# resultados gerais"
   ]
  },
  {
   "cell_type": "code",
   "execution_count": null,
   "id": "21cb6a6b",
   "metadata": {},
   "outputs": [],
   "source": [
    "dataset_result = {}"
   ]
  },
  {
   "cell_type": "code",
   "execution_count": null,
   "id": "8ff4233b",
   "metadata": {
    "scrolled": true
   },
   "outputs": [],
   "source": [
    "file_path = [i[:-4] for i in glob.glob('../datasets/candombe/*.wav')]\n",
    "\n",
    "for file in file_path:\n",
    "        print(f\"processing {file}\")\n",
    "        x, fs = librosa.load(f\"{file}.wav\", mono=True, sr=FS)\n",
    "        x_df = pd.read_csv(f\"{file}.csv\", names=[\"timestamp\", \"beat\"])\n",
    "        ground_truth = x_df['timestamp'].values\n",
    "        beat_frames = []\n",
    "        onset_frames = []\n",
    "        librosa_timestamps = []\n",
    "        \n",
    "        onset_subbands = librosa.onset.onset_strength_multi(y=x, sr=FS, channels=[0, 4, 8, 32, 128])\n",
    "        dataset_result[file] = {}\n",
    "        \n",
    "        for i in range(len(onset_subbands)):\n",
    "            onset_frames.append(librosa.onset.onset_detect(onset_envelope=onset_subbands[i], sr=FS))\n",
    "            \n",
    "        for i in range(len(onset_subbands)):\n",
    "            _, beats = librosa.beat.beat_track(onset_envelope=onset_subbands[i], sr=FS)\n",
    "            beat_frames.append(beats)\n",
    "            librosa_timestamp = librosa.frames_to_time(beats, sr=FS)\n",
    "            librosa_timestamps.append(librosa_timestamp)\n",
    "\n",
    "        for i in range(len(onset_subbands)):\n",
    "            cmlc_librosa, cmlt_librosa, amlc_librosa, amlt_librosa = mir_eval.beat.continuity(ground_truth, librosa_timestamps[i])\n",
    "            \n",
    "            dataset_result[file][f\"subband{i}\"] = {\n",
    "                \"ground_truth_beats\": ground_truth,\n",
    "                \"librosa_beats\": librosa_timestamps[i],\n",
    "                \"f_score_librosa\": mir_eval.beat.f_measure(ground_truth, librosa_timestamps[i]),\n",
    "                \"p_score_librosa\": mir_eval.beat.p_score(ground_truth, librosa_timestamps[i]),\n",
    "                \"cmlc_librosa\": cmlc_librosa,\n",
    "                \"cmlt_librosa\": cmlt_librosa,\n",
    "                \"amlc_librosa\": amlc_librosa,\n",
    "                \"amlt_librosa\": amlt_librosa\n",
    "            }"
   ]
  },
  {
   "cell_type": "code",
   "execution_count": null,
   "id": "b2c72c72",
   "metadata": {},
   "outputs": [],
   "source": [
    "df = pd.DataFrame.from_dict({(i,j): dataset_result[i][j] \n",
    "                            for i in dataset_result.keys() \n",
    "                            for j in dataset_result[i].keys()},\n",
    "                            orient='index')"
   ]
  },
  {
   "cell_type": "code",
   "execution_count": null,
   "id": "7a1bfd3f",
   "metadata": {
    "scrolled": true
   },
   "outputs": [],
   "source": [
    "df"
   ]
  },
  {
   "cell_type": "code",
   "execution_count": null,
   "id": "382bb25e",
   "metadata": {},
   "outputs": [],
   "source": [
    "df.xs('subband0', level=1, drop_level=False).median()"
   ]
  },
  {
   "cell_type": "code",
   "execution_count": null,
   "id": "980a9eaa",
   "metadata": {},
   "outputs": [],
   "source": [
    "df.xs('subband1', level=1, drop_level=False).median()"
   ]
  },
  {
   "cell_type": "code",
   "execution_count": null,
   "id": "6f9aca57",
   "metadata": {},
   "outputs": [],
   "source": [
    "df.xs('subband2', level=1, drop_level=False).median()"
   ]
  },
  {
   "cell_type": "code",
   "execution_count": null,
   "id": "0492b3cc",
   "metadata": {
    "scrolled": true
   },
   "outputs": [],
   "source": [
    "df.xs('subband3', level=1, drop_level=False).median()"
   ]
  },
  {
   "cell_type": "code",
   "execution_count": null,
   "id": "829ed2bf",
   "metadata": {
    "scrolled": true
   },
   "outputs": [],
   "source": [
    "df.xs('subband0', level=1, drop_level=False).sort_values('f_score_librosa', ascending=True)[['f_score_librosa', 'p_score_librosa', 'cmlc_librosa', 'cmlt_librosa', 'amlc_librosa', 'amlt_librosa']]"
   ]
  },
  {
   "cell_type": "code",
   "execution_count": null,
   "id": "058227ba",
   "metadata": {
    "scrolled": true
   },
   "outputs": [],
   "source": [
    "df.xs('subband1', level=1, drop_level=False).sort_values('f_score_librosa', ascending=True)[['f_score_librosa', 'p_score_librosa', 'cmlc_librosa', 'cmlt_librosa', 'amlc_librosa', 'amlt_librosa']]"
   ]
  },
  {
   "cell_type": "code",
   "execution_count": null,
   "id": "89d3ddb6",
   "metadata": {
    "scrolled": true
   },
   "outputs": [],
   "source": [
    "df.xs('subband2', level=1, drop_level=False).sort_values('f_score_librosa', ascending=True)[['f_score_librosa', 'p_score_librosa', 'cmlc_librosa', 'cmlt_librosa', 'amlc_librosa', 'amlt_librosa']]"
   ]
  },
  {
   "cell_type": "code",
   "execution_count": null,
   "id": "8c33bb3c",
   "metadata": {
    "scrolled": true
   },
   "outputs": [],
   "source": [
    "df.xs('subband3', level=1, drop_level=False).sort_values('f_score_librosa', ascending=True)[['f_score_librosa', 'p_score_librosa', 'cmlc_librosa', 'cmlt_librosa', 'amlc_librosa', 'amlt_librosa']]"
   ]
  },
  {
   "cell_type": "code",
   "execution_count": null,
   "id": "40d92faa",
   "metadata": {},
   "outputs": [],
   "source": [
    "freqs = librosa.fft_frequencies(sr=FS, n_fft=2048)"
   ]
  },
  {
   "cell_type": "code",
   "execution_count": null,
   "id": "387320e2",
   "metadata": {},
   "outputs": [],
   "source": [
    "freqs.shape"
   ]
  },
  {
   "cell_type": "code",
   "execution_count": null,
   "id": "ab6cec59",
   "metadata": {},
   "outputs": [],
   "source": [
    "subband0_freq = freqs[0:5]"
   ]
  },
  {
   "cell_type": "code",
   "execution_count": null,
   "id": "fa011d94",
   "metadata": {},
   "outputs": [],
   "source": [
    "subband0_freq_max = subband0_freq[-1]"
   ]
  },
  {
   "cell_type": "code",
   "execution_count": null,
   "id": "1910c680",
   "metadata": {},
   "outputs": [],
   "source": [
    "subband0_freq_max"
   ]
  },
  {
   "cell_type": "markdown",
   "id": "4ed83540",
   "metadata": {},
   "source": [
    "# áudios"
   ]
  },
  {
   "cell_type": "code",
   "execution_count": null,
   "id": "1fd8897b",
   "metadata": {},
   "outputs": [],
   "source": [
    "x, fs = librosa.load('../datasets/candombe/csic.1995_ansina2_04.wav', sr=FS, mono=True)"
   ]
  },
  {
   "cell_type": "code",
   "execution_count": null,
   "id": "7c708e20",
   "metadata": {},
   "outputs": [],
   "source": [
    "X = np.abs(librosa.stft(x, n_fft=2048, hop_length=512))"
   ]
  },
  {
   "cell_type": "code",
   "execution_count": null,
   "id": "bdc94a37",
   "metadata": {},
   "outputs": [],
   "source": [
    "onset_subbands = librosa.onset.onset_strength_multi(y=x, sr=FS, channels=[0, 4, 8, 32, 128, 256])"
   ]
  },
  {
   "cell_type": "code",
   "execution_count": null,
   "id": "58be04d2",
   "metadata": {},
   "outputs": [],
   "source": [
    "S = librosa.feature.melspectrogram(y=x, sr=FS, n_mels=128, fmax=11025.0)"
   ]
  },
  {
   "cell_type": "code",
   "execution_count": null,
   "id": "bd381354",
   "metadata": {},
   "outputs": [],
   "source": [
    "librosa.display.specshow(librosa.amplitude_to_db(np.abs(S), ref=np.max), y_axis='mel')"
   ]
  },
  {
   "cell_type": "code",
   "execution_count": null,
   "id": "5a64e2e2",
   "metadata": {},
   "outputs": [],
   "source": [
    "Y = S.copy();\n",
    "Y[5:,::] = 0"
   ]
  },
  {
   "cell_type": "code",
   "execution_count": null,
   "id": "133ebb8a",
   "metadata": {},
   "outputs": [],
   "source": [
    "librosa.mel_frequencies(n_mels=128, fmin=0.0, fmax=11025.0, htk=False)[0:5]"
   ]
  },
  {
   "cell_type": "code",
   "execution_count": null,
   "id": "60bbe3e8",
   "metadata": {},
   "outputs": [],
   "source": [
    "librosa.display.specshow(librosa.amplitude_to_db(np.abs(Y), ref=np.max), y_axis='mel')"
   ]
  },
  {
   "cell_type": "code",
   "execution_count": null,
   "id": "0b3f3b0f",
   "metadata": {},
   "outputs": [],
   "source": [
    "ipd.Audio(x, rate=FS)"
   ]
  },
  {
   "cell_type": "code",
   "execution_count": null,
   "id": "1573c2d2",
   "metadata": {},
   "outputs": [],
   "source": [
    "plt.plot(x[0:10*FS])"
   ]
  },
  {
   "cell_type": "code",
   "execution_count": null,
   "id": "ea2395ff",
   "metadata": {},
   "outputs": [],
   "source": [
    "subband0_audio = np.real(librosa.istft(Y))"
   ]
  },
  {
   "cell_type": "code",
   "execution_count": null,
   "id": "d271de85",
   "metadata": {},
   "outputs": [],
   "source": [
    "# TODO: adicionar os clicks do ground truth pra ter uma referência\n",
    "ipd.Audio(subband0_audio, rate=FS)"
   ]
  },
  {
   "cell_type": "code",
   "execution_count": null,
   "id": "d7285be1",
   "metadata": {},
   "outputs": [],
   "source": [
    "plt.plot(subband0_audio)"
   ]
  },
  {
   "cell_type": "code",
   "execution_count": null,
   "id": "48a13a0b",
   "metadata": {},
   "outputs": [],
   "source": [
    "W = X.copy();\n",
    "W[0:5,::] = 0\n",
    "W[9::, ::] = 0"
   ]
  },
  {
   "cell_type": "code",
   "execution_count": null,
   "id": "32d96209",
   "metadata": {},
   "outputs": [],
   "source": [
    "librosa.display.specshow(librosa.amplitude_to_db(np.abs(W), ref=np.max), y_axis='log')"
   ]
  },
  {
   "cell_type": "code",
   "execution_count": null,
   "id": "7c1af09e",
   "metadata": {},
   "outputs": [],
   "source": [
    "subband1_audio = np.real(librosa.istft(W))\n",
    "ipd.Audio(subband1_audio, rate=FS)"
   ]
  }
 ],
 "metadata": {
  "kernelspec": {
   "display_name": "Python 3 (ipykernel)",
   "language": "python",
   "name": "python3"
  },
  "language_info": {
   "codemirror_mode": {
    "name": "ipython",
    "version": 3
   },
   "file_extension": ".py",
   "mimetype": "text/x-python",
   "name": "python",
   "nbconvert_exporter": "python",
   "pygments_lexer": "ipython3",
   "version": "3.9.7"
  }
 },
 "nbformat": 4,
 "nbformat_minor": 5
}
