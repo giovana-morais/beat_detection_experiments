{
 "cells": [
  {
   "cell_type": "code",
   "execution_count": null,
   "id": "4a431e31",
   "metadata": {},
   "outputs": [],
   "source": [
    "import glob\n",
    "import librosa\n",
    "import librosa.display\n",
    "import numpy as np\n",
    "import matplotlib.pyplot as plt\n",
    "import mir_eval\n",
    "import pandas as pd\n",
    "\n",
    "import IPython.display as ipd"
   ]
  },
  {
   "cell_type": "code",
   "execution_count": null,
   "id": "c9b21a8b",
   "metadata": {},
   "outputs": [],
   "source": [
    "plt.rcParams[\"figure.figsize\"] = (15,10)"
   ]
  },
  {
   "cell_type": "code",
   "execution_count": null,
   "id": "154bd84c",
   "metadata": {},
   "outputs": [],
   "source": [
    "FS = 44100\n",
    "CHANNELS = [0, 32, 64, 128]"
   ]
  },
  {
   "cell_type": "code",
   "execution_count": null,
   "id": "c4970368",
   "metadata": {},
   "outputs": [],
   "source": [
    "candombe_audio_path = '../datasets/candombe/csic.1995_ansina2_04.wav'"
   ]
  },
  {
   "cell_type": "code",
   "execution_count": null,
   "id": "208347df",
   "metadata": {},
   "outputs": [],
   "source": [
    "candombe, _ = librosa.load(candombe_audio_path, sr=FS)"
   ]
  },
  {
   "cell_type": "code",
   "execution_count": null,
   "id": "834b3f2c",
   "metadata": {},
   "outputs": [],
   "source": [
    "x_df = pd.read_csv(candombe_audio_path.replace('.wav', '.csv'), names=[\"timestamp\", \"beat\"])\n",
    "ground_truth = x_df['timestamp'].values"
   ]
  },
  {
   "cell_type": "code",
   "execution_count": null,
   "id": "561a8665",
   "metadata": {},
   "outputs": [],
   "source": [
    "onset_subbands = librosa.onset.onset_strength_multi(y=candombe, sr=FS, channels=CHANNELS)\n",
    "times = librosa.times_like(onset_subbands, sr=FS)\n",
    "# true_beats = ground_truth[(ground_truth >= start) & (ground_truth < end)] - start\n",
    "onset_frames = []\n",
    "\n",
    "for i in range(onset_subbands.shape[0]):\n",
    "    onset_frames.append(librosa.onset.onset_detect(onset_envelope=onset_subbands[i], sr=FS))\n",
    "\n",
    "# cálculo padrão dos beats\n",
    "beat_frames = []\n",
    "\n",
    "for i in range(len(onset_subbands)):\n",
    "    _, beats = librosa.beat.beat_track(onset_envelope=onset_subbands[i], sr=FS)\n",
    "    beat_frames.append(beats)\n",
    "\n",
    "for i in range(len(onset_subbands)):\n",
    "    print(f\"{'*'*10} subband {i} {'*'*10}\")\n",
    "    print(f\"fmeasure {mir_eval.beat.f_measure(ground_truth, librosa.frames_to_time(beat_frames[i], FS))}\")\n",
    "    CMLc, CMLt, AMLc, AMLt = mir_eval.beat.continuity(ground_truth, librosa.frames_to_time(beat_frames[i], FS))\n",
    "    print(f\"CMLc = {CMLc}\\nCMLt = {CMLt}\\nAMLc = {AMLc}\\nAMLt = {AMLt}\")"
   ]
  },
  {
   "cell_type": "code",
   "execution_count": null,
   "id": "77b1297b",
   "metadata": {},
   "outputs": [],
   "source": [
    "num_plots = onset_subbands.shape[0]\n",
    "fig, ax = plt.subplots(nrows=num_plots, sharex=True)\n",
    "\n",
    "for i in range(num_plots):\n",
    "    ax[i].set_title(f\"subband_{i}\")\n",
    "    ax[i].plot(times, onset_subbands[i], alpha=0.6, label=f'subband_{i}')\n",
    "    ax[i].vlines(times[onset_frames[i]], 0, onset_subbands[i].max(), alpha=0.6, color='r', linestyle='--', label='onsets')\n",
    "    ax[i].vlines(times[beat_frames[i]], 0, onset_subbands[i].max(), alpha=0.9, color='g', label='detected beat')\n",
    "    ax[i].vlines(true_beats, 0, onset_subbands[i].max(), color='b', alpha=0.9, label='true beat')\n",
    "    \n",
    "fig.legend()"
   ]
  },
  {
   "cell_type": "code",
   "execution_count": null,
   "id": "096de255",
   "metadata": {},
   "outputs": [],
   "source": [
    "song = '../datasets/candombe/csic.1995_ansina2_01.wav'\n",
    "\n",
    "x2, _ = librosa.load(song, mono=True, sr=FS)\n",
    "x2_df = pd.read_csv(candombe_audio_path.replace('.wav', '.csv'), names=[\"timestamp\", \"beat\"])\n",
    "ground_truth2 = x2_df['timestamp'].values\n",
    "\n",
    "onset_subbands = librosa.onset.onset_strength_multi(y=x2, sr=FS, channels=CHANNELS)\n",
    "times = librosa.times_like(onset_subbands, sr=FS)\n",
    "onset_frames = []\n",
    "\n",
    "for i in range(onset_subbands.shape[0]):\n",
    "    onset_frames.append(librosa.onset.onset_detect(onset_envelope=onset_subbands[i], sr=FS))\n",
    "\n",
    "# cálculo padrão dos beats\n",
    "beat_frames = []\n",
    "\n",
    "for i in range(len(onset_subbands)):\n",
    "    _, beats = librosa.beat.beat_track(onset_envelope=onset_subbands[i], sr=FS)\n",
    "    beat_frames.append(beats)\n",
    "    \n",
    "for i in range(len(onset_subbands)):\n",
    "    print(f\"{'*'*10} subband {i} {'*'*10}\")\n",
    "    print(f\"fmeasure {mir_eval.beat.f_measure(ground_truth2, librosa.frames_to_time(beat_frames[i], FS))}\")\n",
    "    CMLc, CMLt, AMLc, AMLt = mir_eval.beat.continuity(ground_truth2, librosa.frames_to_time(beat_frames[i], FS))\n",
    "    print(f\"CMLc = {CMLc}\\nCMLt = {CMLt}\\nAMLc = {AMLc}\\nAMLt = {AMLt}\")"
   ]
  },
  {
   "cell_type": "code",
   "execution_count": null,
   "id": "02481a95",
   "metadata": {},
   "outputs": [],
   "source": [
    "num_plots = onset_subbands.shape[0]\n",
    "fig, ax = plt.subplots(nrows=num_plots, sharex=True)\n",
    "\n",
    "for i in range(num_plots):\n",
    "    ax[i].set_title(f\"subband_{i}\")\n",
    "    ax[i].plot(times, onset_subbands[i], alpha=0.6, label=f'subband_{i}')\n",
    "    ax[i].vlines(times[onset_frames[i]], 0, onset_subbands[i].max(), alpha=0.6, color='r', linestyle='--', label='onsets')\n",
    "    ax[i].vlines(times[beat_frames[i]], 0, onset_subbands[i].max(), alpha=0.9, color='g', label='detected beat')\n",
    "    ax[i].vlines(true_beats, 0, onset_subbands[i].max(), color='b', alpha=0.9, label='true beat')\n",
    "    \n",
    "fig.legend()"
   ]
  },
  {
   "cell_type": "code",
   "execution_count": null,
   "id": "9337875e",
   "metadata": {},
   "outputs": [],
   "source": [
    "# good performance song\n",
    "song = '../datasets/candombe/zavala.muniz.2014_52.wav'\n",
    "\n",
    "x2, _ = librosa.load(song, mono=True, sr=FS)\n",
    "x2_df = pd.read_csv(candombe_audio_path.replace('.wav', '.csv'), names=[\"timestamp\", \"beat\"])\n",
    "ground_truth2 = x2_df['timestamp'].values\n",
    "\n",
    "onset_subbands = librosa.onset.onset_strength_multi(y=x2[start*FS:end*FS], sr=FS, channels=[0, 4, 8, 64, 128])\n",
    "times = librosa.times_like(onset_subbands, sr=FS)\n",
    "true_beats = ground_truth2[(ground_truth2 >= start) & (ground_truth2 < end)] - start\n",
    "onset_frames = []\n",
    "\n",
    "for i in range(onset_subbands.shape[0]):\n",
    "    onset_frames.append(librosa.onset.onset_detect(onset_envelope=onset_subbands[i], sr=FS))\n",
    "\n",
    "# cálculo padrão dos beats\n",
    "beat_frames = []\n",
    "\n",
    "for i in range(len(onset_subbands)):\n",
    "    _, beats = librosa.beat.beat_track(onset_envelope=onset_subbands[i], sr=FS)\n",
    "    beat_frames.append(beats)\n",
    "\n",
    "num_plots = onset_subbands.shape[0]\n",
    "fig, ax = plt.subplots(nrows=num_plots, sharex=True)\n",
    "\n",
    "for i in range(num_plots):\n",
    "    ax[i].set_title(f\"subband_{i}\")\n",
    "    ax[i].plot(times, onset_subbands[i], alpha=0.6, label=f'subband_{i}')\n",
    "    ax[i].vlines(times[onset_frames[i]], 0, onset_subbands[i].max(), alpha=0.6, color='r', linestyle='--', label='onsets')\n",
    "    ax[i].vlines(times[beat_frames[i]], 0, onset_subbands[i].max(), alpha=0.9, color='g', label='detected beat')\n",
    "    ax[i].vlines(true_beats, 0, onset_subbands[i].max(), color='b', alpha=0.9, label='true beat')\n",
    "    \n",
    "fig.legend()"
   ]
  },
  {
   "cell_type": "code",
   "execution_count": null,
   "id": "3c1fa5c6",
   "metadata": {},
   "outputs": [],
   "source": [
    "for i in range(len(onset_subbands)):\n",
    "    print(f\"{'*'*10} subband {i} {'*'*10}\")\n",
    "    print(f\"fmeasure {mir_eval.beat.f_measure(true_beats, librosa.frames_to_time(beat_frames[i], FS))}\")\n",
    "    CMLc, CMLt, AMLc, AMLt = mir_eval.beat.continuity(true_beats, librosa.frames_to_time(beat_frames[i], FS))\n",
    "    print(f\"CMLc = {CMLc}\\nCMLt = {CMLt}\\nAMLc = {AMLc}\\nAMLt = {AMLt}\")"
   ]
  },
  {
   "cell_type": "markdown",
   "id": "a48cbeef",
   "metadata": {},
   "source": [
    "# rodando pra todos os áudios e checando se houve ou não diferença significativa no geral"
   ]
  },
  {
   "cell_type": "code",
   "execution_count": null,
   "id": "21cb6a6b",
   "metadata": {},
   "outputs": [],
   "source": [
    "dataset_result = {}"
   ]
  },
  {
   "cell_type": "code",
   "execution_count": null,
   "id": "8ff4233b",
   "metadata": {},
   "outputs": [],
   "source": [
    "file_path = [i[:-4] for i in glob.glob('../datasets/candombe/*.wav')]\n",
    "\n",
    "for file in file_path:\n",
    "        print(f\"processing {file}\")\n",
    "        x, fs = librosa.load(f\"{file}.wav\", mono=True, sr=FS)\n",
    "        x_df = pd.read_csv(f\"{file}.csv\", names=[\"timestamp\", \"beat\"])\n",
    "        ground_truth = x_df['timestamp'].values\n",
    "        beat_frames = []\n",
    "        onset_frames = []\n",
    "        librosa_timestamps = []\n",
    "        \n",
    "        onset_subbands = librosa.onset.onset_strength_multi(y=x, sr=FS, channels=[0, 4, 8, 32, 128])\n",
    "        dataset_result[file] = {}\n",
    "        \n",
    "        for i in range(len(onset_subbands)):\n",
    "            onset_frames.append(librosa.onset.onset_detect(onset_envelope=onset_subbands[i], sr=FS))\n",
    "            \n",
    "        for i in range(len(onset_subbands)):\n",
    "            _, beats = librosa.beat.beat_track(onset_envelope=onset_subbands[i], sr=FS)\n",
    "            beat_frames.append(beats)\n",
    "            librosa_timestamp = librosa.frames_to_time(beats, sr=FS)\n",
    "            librosa_timestamps.append(librosa_timestamp)\n",
    "\n",
    "        for i in range(len(onset_subbands)):\n",
    "            cmlc_librosa, cmlt_librosa, amlc_librosa, amlt_librosa = mir_eval.beat.continuity(ground_truth, librosa_timestamps[i])\n",
    "            \n",
    "            dataset_result[file][f\"subband{i}\"] = {\n",
    "                \"ground_truth_beats\": ground_truth,\n",
    "                \"librosa_beats\": librosa_timestamps[i],\n",
    "                \"f_score_librosa\": mir_eval.beat.f_measure(ground_truth, librosa_timestamps[i]),\n",
    "                \"p_score_librosa\": mir_eval.beat.p_score(ground_truth, librosa_timestamps[i]),\n",
    "                \"cmlc_librosa\": cmlc_librosa,\n",
    "                \"cmlt_librosa\": cmlt_librosa,\n",
    "                \"amlc_librosa\": amlc_librosa,\n",
    "                \"amlt_librosa\": amlt_librosa\n",
    "            }\n",
    "\n",
    "    "
   ]
  },
  {
   "cell_type": "code",
   "execution_count": null,
   "id": "4cb92345",
   "metadata": {},
   "outputs": [],
   "source": [
    "import pandas as pd"
   ]
  },
  {
   "cell_type": "code",
   "execution_count": null,
   "id": "b2c72c72",
   "metadata": {},
   "outputs": [],
   "source": [
    "df = pd.DataFrame.from_dict({(i,j): dataset_result[i][j] \n",
    "                            for i in dataset_result.keys() \n",
    "                            for j in dataset_result[i].keys()},\n",
    "                            orient='index')"
   ]
  },
  {
   "cell_type": "code",
   "execution_count": null,
   "id": "4ef15ead",
   "metadata": {},
   "outputs": [],
   "source": [
    "df"
   ]
  },
  {
   "cell_type": "code",
   "execution_count": null,
   "id": "b461f5af",
   "metadata": {
    "scrolled": true
   },
   "outputs": [],
   "source": [
    "df.xs('subband0', level=1, drop_level=False).median()"
   ]
  },
  {
   "cell_type": "code",
   "execution_count": null,
   "id": "59e071fa",
   "metadata": {},
   "outputs": [],
   "source": [
    "df.xs('subband1', level=1, drop_level=False).median()"
   ]
  },
  {
   "cell_type": "code",
   "execution_count": null,
   "id": "49bc909c",
   "metadata": {},
   "outputs": [],
   "source": [
    "df.xs('subband2', level=1, drop_level=False).median()"
   ]
  },
  {
   "cell_type": "code",
   "execution_count": null,
   "id": "df0442d9",
   "metadata": {},
   "outputs": [],
   "source": [
    "df.xs('subband3', level=1, drop_level=False).median()"
   ]
  },
  {
   "cell_type": "code",
   "execution_count": null,
   "id": "c6a423d3",
   "metadata": {},
   "outputs": [],
   "source": [
    "# ../datasets/candombe/csic.1995_ansina2_04 -> 0.011778563015312132\n",
    "# ../datasets/candombe/csic.1995_ansina2_01 -> 0.013138686131386862\n",
    "# ../datasets/candombe/proyecto.1992_pelado_05 -> 0.015300546448087432\n",
    "# ../datasets/candombe/csic.1995_ansina2_02 -> 0.01866475233309404\n",
    "# ../datasets/candombe/proyecto.1992_gimenez_06 -> 0.023391812865497075\n",
    "# ../datasets/candombe/csic.1995_ansina2_03 -> 0.029220779220779224\n",
    "# ../datasets/candombe/csic.1995_ansina1_03 -> 0.0621301775147929\n",
    "# ../datasets/candombe/proyecto.1992_pelado_01 -> 0.0743801652892562\n",
    "# ../datasets/candombe/csic.1995_ansina1_02 -> 0.08591885441527446\n",
    "# ../datasets/candombe/proyecto.1992_magarinos_02 -> 0.12185929648241205\n",
    "# ../datasets/candombe/proyecto.1992_gimenez_02 -> 0.19180201082753284\n",
    "# ../datasets/candombe/csic.1995_ansina1_01 -> 0.21518987341772153\n",
    "# ../datasets/candombe/zavala.muniz.2014_45 -> 0.2403204272363151\n",
    "# ../datasets/candombe/csic.1995_cuareim_03 -> 0.29405405405405405\n",
    "# ../datasets/candombe/zavala.muniz.2014_55 -> 0.33396584440227706\n",
    "# ../datasets/candombe/zavala.muniz.2014_46 -> 0.3815261044176707\n",
    "# ../datasets/candombe/zavala.muniz.2014_44 -> 0.41504539559014264\n",
    "# ../datasets/candombe/zavala.muniz.2014_42 -> 0.4383164005805515\n",
    "# ../datasets/candombe/zavala.muniz.2014_49 -> 0.4440944881889764\n",
    "# ../datasets/candombe/zavala.muniz.2014_50 -> 0.4794326241134752\n",
    "# ../datasets/candombe/proyecto.1992_lobo_06 -> 0.50464807436919\n",
    "# ../datasets/candombe/zavala.muniz.2014_41 -> 0.525697503671072\n",
    "# ../datasets/candombe/zavala.muniz.2014_51 -> 0.5799793601651188\n",
    "# ../datasets/candombe/csic.1995_cuareim_02 -> 0.6242990654205608\n",
    "# ../datasets/candombe/csic.1995_ansina1_05 -> 0.6396255850234009\n",
    "# ../datasets/candombe/zavala.muniz.2014_47 -> 0.6533333333333333\n",
    "# ../datasets/candombe/proyecto.1992_lobo_01 -> 0.6620370370370371\n",
    "# ../datasets/candombe/zavala.muniz.2014_54 -> 0.6733333333333332\n",
    "# ../datasets/candombe/zavala.muniz.2014_53 -> 0.6961451247165533\n",
    "# ../datasets/candombe/csic.1995_cuareim_04 -> 0.6992084432717678\n",
    "# ../datasets/candombe/csic.1995_ansina1_04 -> 0.7230411171450737\n",
    "# ../datasets/candombe/zavala.muniz.2014_48 -> 0.7267267267267268\n",
    "# ../datasets/candombe/csic.1995_cuareim_05 -> 0.7457375833951075\n",
    "# ../datasets/candombe/csic.1995_cuareim_01 -> 0.7503136762860728\n",
    "# ../datasets/candombe/zavala.muniz.2014_52 -> 0.7821656050955413\n"
   ]
  },
  {
   "cell_type": "code",
   "execution_count": null,
   "id": "a987727f",
   "metadata": {},
   "outputs": [],
   "source": [
    "df.xs('subband0', level=1, drop_level=False).sort_values('f_score_librosa', ascending=True)['f_score_librosa']"
   ]
  },
  {
   "cell_type": "code",
   "execution_count": null,
   "id": "0e98e1ae",
   "metadata": {},
   "outputs": [],
   "source": []
  }
 ],
 "metadata": {
  "kernelspec": {
   "display_name": "Python 3",
   "language": "python",
   "name": "python3"
  },
  "language_info": {
   "codemirror_mode": {
    "name": "ipython",
    "version": 3
   },
   "file_extension": ".py",
   "mimetype": "text/x-python",
   "name": "python",
   "nbconvert_exporter": "python",
   "pygments_lexer": "ipython3",
   "version": "3.8.6"
  }
 },
 "nbformat": 4,
 "nbformat_minor": 5
}
