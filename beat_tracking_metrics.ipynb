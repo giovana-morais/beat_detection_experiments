{
 "cells": [
  {
   "cell_type": "code",
   "execution_count": null,
   "id": "a34f0368",
   "metadata": {},
   "outputs": [],
   "source": [
    "import librosa\n",
    "import librosa.display\n",
    "import numpy as np\n",
    "import madmom\n",
    "import matplotlib.pyplot as plt\n",
    "import mir_eval\n",
    "import pandas as pd\n",
    "\n",
    "import IPython.display as ipd"
   ]
  },
  {
   "cell_type": "code",
   "execution_count": null,
   "id": "892f0e91",
   "metadata": {},
   "outputs": [],
   "source": [
    "plt.rcParams[\"figure.figsize\"] = (15,10)"
   ]
  },
  {
   "cell_type": "code",
   "execution_count": null,
   "id": "d9c90f2a",
   "metadata": {},
   "outputs": [],
   "source": [
    "import utils"
   ]
  },
  {
   "cell_type": "code",
   "execution_count": null,
   "id": "becbbada",
   "metadata": {},
   "outputs": [],
   "source": [
    "# experimentos baseados no artigo \n",
    "# Evaluation Methods for Musical Audio Beat Tracking"
   ]
  },
  {
   "cell_type": "code",
   "execution_count": null,
   "id": "9bbced6b",
   "metadata": {},
   "outputs": [],
   "source": [
    "FS = 44100"
   ]
  },
  {
   "cell_type": "code",
   "execution_count": null,
   "id": "7cf50046",
   "metadata": {},
   "outputs": [],
   "source": [
    "candombe_audio_path = '../datasets/candombe/csic.1995_ansina2_04.wav'"
   ]
  },
  {
   "cell_type": "code",
   "execution_count": null,
   "id": "340c28f5",
   "metadata": {},
   "outputs": [],
   "source": [
    "candombe, _ = librosa.load(candombe_audio_path, sr=FS)"
   ]
  },
  {
   "cell_type": "code",
   "execution_count": null,
   "id": "b5d549f2",
   "metadata": {},
   "outputs": [],
   "source": [
    "ipd.Audio(candombe, rate=FS)"
   ]
  },
  {
   "cell_type": "code",
   "execution_count": null,
   "id": "2fdd16a9",
   "metadata": {},
   "outputs": [],
   "source": [
    "candombe_stft = np.abs(librosa.stft(candombe[0:10*FS]))"
   ]
  },
  {
   "cell_type": "code",
   "execution_count": null,
   "id": "282bff88",
   "metadata": {},
   "outputs": [],
   "source": [
    "librosa.display.specshow(librosa.amplitude_to_db(candombe_stft, ref=np.max), y_axis='log', x_axis='time')"
   ]
  },
  {
   "cell_type": "code",
   "execution_count": null,
   "id": "7c5d10e9",
   "metadata": {},
   "outputs": [],
   "source": [
    "bpm, beat_frame = librosa.beat.beat_track(candombe, FS)\n",
    "librosa_timestamps = librosa.frames_to_time(beat_frame, FS)"
   ]
  },
  {
   "cell_type": "code",
   "execution_count": null,
   "id": "5ec24180",
   "metadata": {},
   "outputs": [],
   "source": [
    "madmom_beat_processor = madmom.features.downbeats.RNNDownBeatProcessor(num_threads=4)\n",
    "madmom_beat_decoder = madmom.features.downbeats.DBNDownBeatTrackingProcessor(beats_per_bar=[4], fps=100)\n",
    "madmom_track = madmom_beat_decoder(madmom_beat_processor(candombe_audio_path))\n",
    "madmom_timestamps, madmom_beats = madmom_track[:, 0], madmom_track[:, 1]"
   ]
  },
  {
   "cell_type": "code",
   "execution_count": null,
   "id": "624dc77c",
   "metadata": {},
   "outputs": [],
   "source": [
    "x_df = pd.read_csv(candombe_audio_path.replace('.wav', '.csv'), names=[\"timestamp\", \"beat\"])\n",
    "ground_truth = x_df['timestamp'].values"
   ]
  },
  {
   "cell_type": "code",
   "execution_count": null,
   "id": "0838d038",
   "metadata": {},
   "outputs": [],
   "source": [
    "# TODO: testar plots mais interativos\n",
    "utils.plot_comparison(candombe, FS, ground_truth, librosa_timestamps, 0, 10)"
   ]
  },
  {
   "cell_type": "code",
   "execution_count": null,
   "id": "dc703959",
   "metadata": {},
   "outputs": [],
   "source": [
    "utils.plot_comparison(candombe, FS, ground_truth, librosa_timestamps, 70, 80)"
   ]
  },
  {
   "cell_type": "code",
   "execution_count": null,
   "id": "6db68819",
   "metadata": {},
   "outputs": [],
   "source": [
    "utils.plot_comparison(candombe, FS, ground_truth, candombe_timestamps, 0, 10)"
   ]
  },
  {
   "cell_type": "code",
   "execution_count": null,
   "id": "1b6a3f08",
   "metadata": {},
   "outputs": [],
   "source": [
    "utils.plot_comparison(candombe, FS, ground_truth, madmom_timestamps, 70, 80)"
   ]
  },
  {
   "cell_type": "code",
   "execution_count": null,
   "id": "5a1f16a2",
   "metadata": {},
   "outputs": [],
   "source": [
    "utils.plot_comparison(candombe, FS, ground_truth, madmom_timestamps, 70, 80)"
   ]
  },
  {
   "cell_type": "code",
   "execution_count": null,
   "id": "6d386e2f",
   "metadata": {},
   "outputs": [],
   "source": [
    "np.diff(librosa_timestamps).mean()"
   ]
  },
  {
   "cell_type": "code",
   "execution_count": null,
   "id": "d1701f19",
   "metadata": {},
   "outputs": [],
   "source": [
    "np.diff(madmom_timestamps).mean()"
   ]
  },
  {
   "cell_type": "code",
   "execution_count": null,
   "id": "a21fe41a",
   "metadata": {},
   "outputs": [],
   "source": [
    "np.diff(ground_truth).mean()"
   ]
  },
  {
   "cell_type": "code",
   "execution_count": null,
   "id": "274d4d7d",
   "metadata": {},
   "outputs": [],
   "source": [
    "plt.subplot(3,1,1)\n",
    "plt.title('Intervalos entre beats (IBI) - librosa')\n",
    "plt.hist(np.diff(librosa_timestamps), bins=50, range=(0.2,0.7), label=\"librosa\")\n",
    "plt.legend()\n",
    "plt.subplot(3,1,2)\n",
    "plt.title('Intervalos entre beats (IBI) - madmom')\n",
    "plt.hist(np.diff(madmom_timestamps), bins=50, range=(0.2,0.7), label=\"madmom\")\n",
    "plt.legend()\n",
    "plt.subplot(3,1,3)\n",
    "plt.title('Intervalos entre anotações (IAI)')\n",
    "plt.hist(np.diff(ground_truth), bins=50, range=(0.2,0.7), label=\"ground_truth\")\n",
    "plt.xlabel('Beat Length (seconds)')\n",
    "plt.ylabel('Count')\n",
    "plt.legend()"
   ]
  },
  {
   "cell_type": "code",
   "execution_count": null,
   "id": "d27f3b0f",
   "metadata": {},
   "outputs": [],
   "source": [
    "wrong_click_sound = np.sin(2*np.pi*np.arange(FS*.1)*500/(1.*FS))\n",
    "wrong_click_sound *= np.exp(-np.arange(FS*.1)/(FS*.01)) # exponential decay\n",
    "\n",
    "correct_clicks = mir_eval.sonify.clicks(ground_truth, FS, click=None, length=len(x))\n",
    "wrong_clicks = mir_eval.sonify.clicks(candombe_timestamps, FS, click=wrong_click_sound, length=len(x))"
   ]
  },
  {
   "cell_type": "code",
   "execution_count": null,
   "id": "71f489e2",
   "metadata": {},
   "outputs": [],
   "source": [
    "click_excerpt = candombe[60*FS:70*FS] + correct_clicks[60*FS:70*FS] + wrong_clicks[60*FS:70*FS] #\n",
    "ipd.Audio(click_excerpt, rate=FS)"
   ]
  },
  {
   "cell_type": "markdown",
   "id": "e93f4c84",
   "metadata": {},
   "source": [
    "# Notação \n",
    "* B = sequência de estimações\n",
    "* $\\gamma_b$ = timestamp do b-ésimo beat\n",
    "* J = sequência de valores de referência\n",
    "* $a_j$ = valor de referência da j-ésima anotação \n",
    "* Intervalo entre beats (Inner Beat Interval ou IBI) = $\\Delta_b = \\gamma_b - \\gamma_{b-1}$\n",
    "* Intervalo entre anotações (inner-annotation-interval ou IAI) = $\\Delta_j = a_j - a_{j-1}$\n",
    "\n",
    "# F-measure\n",
    "Também é conhecido como F-score. Leva em consideração a precisão \n",
    "\n",
    "$$\n",
    "p = \\frac{c}{c + f^+}\n",
    "$$\n",
    "\n",
    "e o recall (proporção de beats que estão corretos)\n",
    "\n",
    "$$\n",
    "r = \\frac{c}{c + f^-}\n",
    "$$\n",
    "\n",
    "e então \n",
    "\n",
    "$$\n",
    "F = \\frac{2pr}{p+r} = \\frac{2c}{2c + f^+ + f^-}\n",
    "$$\n",
    "\n",
    "Ou seja, se um beat estiver no contratempo, o valor da métrica será $0$. "
   ]
  },
  {
   "cell_type": "code",
   "execution_count": null,
   "id": "77f4d286",
   "metadata": {},
   "outputs": [],
   "source": [
    "mir_eval.beat.f_measure(ground_truth, librosa_timestamps)"
   ]
  },
  {
   "cell_type": "code",
   "execution_count": null,
   "id": "b10e3740",
   "metadata": {},
   "outputs": [],
   "source": [
    "mir_eval.beat.f_measure(ground_truth, madmom_timestamps)"
   ]
  },
  {
   "cell_type": "code",
   "execution_count": null,
   "id": "b4264629",
   "metadata": {},
   "outputs": [],
   "source": []
  },
  {
   "cell_type": "markdown",
   "id": "ae00446b",
   "metadata": {},
   "source": [
    "# Cemgil et al\n",
    "Essa métrica usa uma função de erro gaussiana W que penaliza a acurácia de uma estimativa de acordo com a sua distância em relação ao valor de referência. Funciona como uma janela de tolerância \n",
    "\n",
    "$$\n",
    "W(x) = \\exp(-x^2/2\\sigma_e^2)\n",
    "$$\n",
    "\n",
    "onde $x = \\gamma_b - a_j$ e o desvio padrão é definido como \n",
    "$\\sigma_e=40ms$. "
   ]
  },
  {
   "cell_type": "code",
   "execution_count": null,
   "id": "234f14ca",
   "metadata": {},
   "outputs": [],
   "source": [
    "# retorna cemgil_score, cemgil_max\n",
    "mir_eval.beat.cemgil(ground_truth, librosa_timestamps)"
   ]
  },
  {
   "cell_type": "code",
   "execution_count": null,
   "id": "e0a0b931",
   "metadata": {},
   "outputs": [],
   "source": [
    "mir_eval.beat.cemgil(ground_truth, madmom_timestamps)"
   ]
  },
  {
   "cell_type": "markdown",
   "id": "1ff926d4",
   "metadata": {},
   "source": [
    "# PScore\n",
    "\n",
    "* $T_a(n)$ = trem de pulsos para valores de referência (ground_truth)\n",
    "* $T_{\\gamma}(n)$ = trem de pulsos para valores estimados\n",
    "$$\n",
    "\\begin{equation}\n",
    "    T_a(n) =\n",
    "    \\begin{cases}\n",
    "      0, & \\text{if}\\ n=a_j \\\\\n",
    "      1, & \\text{caso contrário}\n",
    "    \\end{cases}\n",
    "  \\end{equation}\n",
    "$$\n",
    "\n",
    "$$\n",
    "\\begin{equation}\n",
    "    T_{\\gamma}(n) =\n",
    "    \\begin{cases}\n",
    "      0, & \\text{if}\\ n=\\gamma_b \\\\\n",
    "      1, & \\text{caso contrário}\n",
    "    \\end{cases}\n",
    "  \\end{equation}\n",
    "$$\n",
    "\n",
    "As medidas são feitas dentro de uma janela $w$, que tem um valor \n",
    "empírico de 20% da mediana dos intervalos entre-anotações \n",
    "($\\Delta_j$).  Ou seja $w = 0.2\\cdot\\;median(\\Delta_j)$. O resultado da correlação é normalizado pelo máximo entre o total de anotações e o total de estimativas, evitando assim casos em que $T_{\\gamma}$ fosse uma função uniforme e sua correlação com $T_a$ fosse maximizada.\n",
    "\n",
    "$$ \n",
    "PScore = \\frac{\\sum_w T_a *_{(w)}T_{\\gamma}}{\\max(J, B)}\n",
    "$$"
   ]
  },
  {
   "cell_type": "code",
   "execution_count": null,
   "id": "a50c324c",
   "metadata": {},
   "outputs": [],
   "source": [
    "mir_eval.beat.p_score(ground_truth, librosa_timestamps)"
   ]
  },
  {
   "cell_type": "code",
   "execution_count": null,
   "id": "152cc8ae",
   "metadata": {},
   "outputs": [],
   "source": [
    "mir_eval.beat.p_score(ground_truth, madmom_timestamps)"
   ]
  },
  {
   "cell_type": "markdown",
   "id": "a90100fb",
   "metadata": {},
   "source": [
    "# Goto e Muraoka\n",
    "\n",
    "Essa métrica avalia as medições de beat como \"corretas\" ou \"incorretas\". O resultado é binário e vale 1 se seguir uma série de \n",
    "critérios heurísticos.\n",
    "\n",
    "Nesse caso, pra cada valor referência $a_j$ calculamos o erro \n",
    "$\\zeta_j$ em relação a estimativa $\\gamma_b$ mais próxima e ao \n",
    "intervalo entre beats $\\Delta_j$ mais próximo.\n",
    "\n",
    "Os critérios heurísticos tratam da média e desvio padrão dos erros\n",
    "$\\zeta_k$ e da proximidade das estimativas $\\gamma_b$."
   ]
  },
  {
   "cell_type": "code",
   "execution_count": null,
   "id": "32247a04",
   "metadata": {},
   "outputs": [],
   "source": [
    "mir_eval.beat.goto(ground_truth, librosa_timestamps)"
   ]
  },
  {
   "cell_type": "code",
   "execution_count": null,
   "id": "36379183",
   "metadata": {},
   "outputs": [],
   "source": [
    "mir_eval.beat.goto(ground_truth, librosa_timestamps + shift)"
   ]
  },
  {
   "cell_type": "markdown",
   "id": "863445c9",
   "metadata": {},
   "source": [
    "# Avaliação baseada em Continuidade\n",
    "\n",
    "Esse tipo de avaliação segue o mesmo conceito de continuidade que é \n",
    "apresentado na medida de Goto e  Muraoka. A ideia é notar se as \n",
    "estimativas consistentemente estão dentro da janela de tolerância $\\theta$.\n",
    "Ou seja, um beat $\\gamma_b$ só vai ser considerado correto se ele e \n",
    "seu antecessor, $\\gamma_{b-1}$ estão dentro de suas respectivas \n",
    "janelas. \n",
    "\n",
    "* (i) $a_j - \\theta\\Delta_j < \\gamma_b < a_j + \\theta\\Delta_j$\n",
    "* (ii) $a_{j-1} - \\theta\\Delta_{j-1} < \\gamma_{b-1} < a_{j-1} + \\theta\\Delta_{j-1}$\n",
    "* (iii) $(1-\\theta)\\Delta_j < \\Delta_b < (1+\\theta)\\Delta_j$\n",
    "\n",
    "Ao compararmos cada beat $\\gamma_b$ a cada anotação $a_j$ considerando as condições citadas acima podemos encontrar o número de beats corretos em cada segmento $\\Upsilon_m$. E a partir disso, podemos calcular a razão do maior segmento com beats corretos em relação ao tamanho total da entrada.\n",
    "\n",
    "$CML_c$ = Correct Metrical Level. Requer continuidade. \n",
    "$$\n",
    "CML_c = \\frac{\\max(\\Upsilon_m)}{J}\n",
    "$$\n",
    "\n",
    "Essa métrica reflete apenas o maior segmento e é portanto cega a \n",
    "outros beats que também foram corretos e satisfizeram as condições (i) - (iii). \n",
    "Se um beat incorreto acontece e esse erro está no meio da \n",
    "entrada, isso resultaria em um $CML_c = 50\\%$.\n",
    "\n",
    "Para considerar outros beats corretos fora maior segmento \n",
    "$\\Upsilon_m$, existe a $CML_t$, que considera o total de beats corretos em todos os segmentos.\n",
    "\n",
    "$CML_t$ = Correct Metrical Level. Não requer continuidade. \n",
    "$$\n",
    "CML_t = \\frac{\\sum^M_{m=1}\\Upsilon_m}{J}\n",
    "$$\n",
    "\n",
    "Para considerar andamentos diferentes, existe a AMLt e AMLc. Se, por exemplo, as marcações tiverem o dobro do BPM ou estiverem marcadas no offbeat, essas métricas ainda assim dão valores altos."
   ]
  },
  {
   "cell_type": "code",
   "execution_count": null,
   "id": "6a1cb925",
   "metadata": {},
   "outputs": [],
   "source": [
    "# librosa\n",
    "CMLc, CMLt, AMLc, AMLt = mir_eval.beat.continuity(ground_truth, librosa_timestamps)\n",
    "print(f\"CMLc = {CMLc}\\nCMLt = {CMLt}\\nAMLc = {AMLc}\\nAMLt = {AMLt}\")"
   ]
  },
  {
   "cell_type": "code",
   "execution_count": null,
   "id": "8483171e",
   "metadata": {},
   "outputs": [],
   "source": [
    "# madmom\n",
    "CMLc, CMLt, AMLc, AMLt = mir_eval.beat.continuity(ground_truth, madmom_timestamps)\n",
    "print(f\"CMLc = {CMLc}\\nCMLt = {CMLt}\\nAMLc = {AMLc}\\nAMLt = {AMLt}\")"
   ]
  },
  {
   "cell_type": "markdown",
   "id": "18353821",
   "metadata": {},
   "source": [
    "# Janelas de tolerância\n",
    "\n",
    "As janelas de tolerância podem ser um problema. Deixar o valor delas muito baixo pode fazer com que mesmo beats corretos com algum delay inerente à tarefa não sejam classificados como tal. Da mesma forma, aumentar muito o valor da janela pode fazer com que beats errados sejam classificados como correto."
   ]
  },
  {
   "cell_type": "code",
   "execution_count": null,
   "id": "ce0154c2",
   "metadata": {},
   "outputs": [],
   "source": [
    "mir_eval.beat.continuity(\n",
    "    ground_truth,\n",
    "    librosa_timestamps,\n",
    "    continuity_phase_threshold = 0.3,\n",
    "    continuity_period_threshold = 0.3)"
   ]
  },
  {
   "cell_type": "code",
   "execution_count": null,
   "id": "26abdec8",
   "metadata": {},
   "outputs": [],
   "source": [
    "mir_eval.beat.continuity(\n",
    "    ground_truth,\n",
    "    madmom_timestamps,\n",
    "    continuity_phase_threshold = 0.3,\n",
    "    continuity_period_threshold = 0.3)"
   ]
  },
  {
   "cell_type": "markdown",
   "id": "e11aac87",
   "metadata": {},
   "source": [
    "# Deslocamento"
   ]
  },
  {
   "cell_type": "code",
   "execution_count": null,
   "id": "abad3b74",
   "metadata": {},
   "outputs": [],
   "source": [
    "halfbeat_madmom = np.diff(madmom_timestamps).mean() / 4\n",
    "halfbeat_librosa = np.diff(librosa_timestamps).mean() / 4"
   ]
  },
  {
   "cell_type": "code",
   "execution_count": null,
   "id": "0ec664b2",
   "metadata": {},
   "outputs": [],
   "source": [
    "mir_eval.beat.f_measure(ground_truth, librosa_timestamps + halfbeat_librosa)"
   ]
  },
  {
   "cell_type": "code",
   "execution_count": null,
   "id": "b7d29316",
   "metadata": {},
   "outputs": [],
   "source": [
    "mir_eval.beat.f_measure(ground_truth, madmom_timestamps + halfbeat_madmom)"
   ]
  },
  {
   "cell_type": "markdown",
   "id": "9e418d22",
   "metadata": {},
   "source": [
    "# Perguntas\n",
    "- por que há esse deslocamento? a informação musical está mais próxima do offbeat? <- calcular o IBI pra descobrir qual é o valor em segundos/milissegundos do offbeat\n",
    "- qual assumpção que funciona pra músicas ocidentais não funciona pra esse gênero? por quê?\n",
    "- o deslocamento acontece com todos os métodos de detecção usados?\n",
    "\n",
    "# Próximos passos\n",
    "- entender e adicionar o método de information gain\n",
    "- ajustar função de plot pra mostrar os onsets em vez do sinal todo\n",
    "- para os testes com todo o dataset: implementar um histograma de beat pra conseguir comparar as estimativas e os valores de referência\n",
    "\n",
    "\n",
    "# Referências\n",
    "- [Evaluation Methods for Musical Audio BeatTracking Algorithms]()\n",
    "- [METHODOLOGY AND TOOLS FOR THE EVALUATION OF AUTOMATIC ONSET DETECTION ALGORITHMS IN MUSIC](https://www.ee.columbia.edu/~dpwe/ismir2004/CRFILES/paper188.pdf)"
   ]
  }
 ],
 "metadata": {
  "kernelspec": {
   "display_name": "Python 3",
   "language": "python",
   "name": "python3"
  },
  "language_info": {
   "codemirror_mode": {
    "name": "ipython",
    "version": 3
   },
   "file_extension": ".py",
   "mimetype": "text/x-python",
   "name": "python",
   "nbconvert_exporter": "python",
   "pygments_lexer": "ipython3",
   "version": "3.8.6"
  }
 },
 "nbformat": 4,
 "nbformat_minor": 5
}
