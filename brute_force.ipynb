{
 "cells": [
  {
   "cell_type": "markdown",
   "id": "a783c282",
   "metadata": {},
   "source": [
    "# Objetivo:\n",
    "Fazer um brute force pra entender qual o intervalo ideal de frequência pra maximizar as métricas de avaliação de detecção de beat, usando o espectrograma convencional e o mel-espectrograma "
   ]
  },
  {
   "cell_type": "code",
   "execution_count": null,
   "id": "afcb49d1",
   "metadata": {},
   "outputs": [],
   "source": [
    "import glob\n",
    "import csv\n",
    "import librosa\n",
    "import librosa.display\n",
    "import numpy as np\n",
    "import matplotlib.pyplot as plt\n",
    "import mir_eval\n",
    "import pandas as pd\n",
    "\n",
    "import IPython.display as ipd"
   ]
  },
  {
   "cell_type": "code",
   "execution_count": null,
   "id": "2f0ba888",
   "metadata": {},
   "outputs": [],
   "source": [
    "FS = 44100\n",
    "N_FFT = 2048\n",
    "HOP_LENGTH = 512\n",
    "CHANNELS = [[0, 4, 8], [0, 6, 16], [0, 8, 16]]\n",
    "METHODS = [\"spectrogram\", \"melspectrogram\"]\n",
    "dataset_result = {}"
   ]
  },
  {
   "cell_type": "code",
   "execution_count": null,
   "id": "2870a3d4",
   "metadata": {
    "scrolled": true
   },
   "outputs": [],
   "source": [
    "file_path = [i[:-4] for i in glob.glob('../datasets/candombe/*.wav')]\n",
    "\n",
    "with open('onset_subbands_analysis.csv', 'w') as csvfile:\n",
    "    columns = ['file', 'method', 'channels', 'num_channels', 'subband', \n",
    "               'f_score', 'p_score', 'cmlc', 'cmlt', \n",
    "               'amlc', 'amlt'\n",
    "            ]\n",
    "    writer = csv.DictWriter(csvfile, fieldnames=columns)\n",
    "    writer.writeheader()\n",
    "    \n",
    "    for file in file_path:\n",
    "        print(f\"processing {file}\")\n",
    "        x, fs = librosa.load(f\"{file}.wav\", mono=True, sr=FS)\n",
    "        x_df = pd.read_csv(f\"{file}.csv\", names=[\"timestamp\", \"beat\"])\n",
    "        ground_truth = x_df['timestamp'].values\n",
    "        \n",
    "        for method in METHODS:\n",
    "            for channels in CHANNELS:\n",
    "                print(f'using {method} with channels = {channels}')\n",
    "                beat_frames = []\n",
    "                onset_frames = []\n",
    "                detected_timestamps = []\n",
    "\n",
    "                if method == \"spectrogram\":\n",
    "                    X = np.abs(librosa.stft(x, n_fft=N_FFT, hop_length=HOP_LENGTH))\n",
    "                    onset_subbands = librosa.onset.onset_strength_multi(S=X, sr=FS, channels=channels)\n",
    "                else:\n",
    "                    onset_subbands = librosa.onset.onset_strength_multi(y=x, sr=FS, channels=channels)\n",
    "                    \n",
    "                # ok, i KNOW that i can use only one for loop, but this is cropping my results and i \n",
    "                # DON'T wanna debug anything right now because it's 23h and i need to WORK tomorrow \n",
    "                # so YES i'll use three different for loops that loop in the SAME RANGE\n",
    "                for i in range(len(onset_subbands)):\n",
    "                    onset_frames.append(librosa.onset.onset_detect(onset_envelope=onset_subbands[i], sr=FS))\n",
    "\n",
    "                for i in range(len(onset_subbands)):\n",
    "                    _, beats = librosa.beat.beat_track(onset_envelope=onset_subbands[i], sr=FS)\n",
    "                    beat_frames.append(beats)\n",
    "                    timestamp = librosa.frames_to_time(beats, sr=FS)\n",
    "                    detected_timestamps.append(timestamp)\n",
    "\n",
    "                for i in range(len(onset_subbands)):\n",
    "                    cmlc, cmlt, amlc, amlt = mir_eval.beat.continuity(ground_truth, detected_timestamps[i])\n",
    "\n",
    "                    writer.writerow({\n",
    "                        \"file\": file,\n",
    "                        \"method\": method,\n",
    "                        \"channels\": channels,\n",
    "                        \"num_channels\": len(channels)-1,\n",
    "                        \"subband\": i,\n",
    "                        \"f_score\": mir_eval.beat.f_measure(ground_truth, detected_timestamps[i]),\n",
    "                        \"p_score\": mir_eval.beat.p_score(ground_truth, detected_timestamps[i]),\n",
    "                        \"cmlc\": cmlc,\n",
    "                        \"cmlt\": cmlt,\n",
    "                        \"amlc\": amlc,\n",
    "                        \"amlt\": amlt\n",
    "                    })"
   ]
  },
  {
   "cell_type": "markdown",
   "id": "ebbb3dcb",
   "metadata": {},
   "source": [
    "# análise"
   ]
  },
  {
   "cell_type": "code",
   "execution_count": null,
   "id": "381735fa",
   "metadata": {},
   "outputs": [],
   "source": [
    "df = pd.read_csv('onset_subbands_analysis.csv')"
   ]
  },
  {
   "cell_type": "code",
   "execution_count": null,
   "id": "648a17ae",
   "metadata": {},
   "outputs": [],
   "source": [
    "df.groupby('method').mean()"
   ]
  },
  {
   "cell_type": "code",
   "execution_count": null,
   "id": "3febbfb4",
   "metadata": {},
   "outputs": [],
   "source": [
    "df.groupby('method').max()"
   ]
  },
  {
   "cell_type": "code",
   "execution_count": null,
   "id": "f097dc7f",
   "metadata": {},
   "outputs": [],
   "source": []
  }
 ],
 "metadata": {
  "kernelspec": {
   "display_name": "Python 3 (ipykernel)",
   "language": "python",
   "name": "python3"
  },
  "language_info": {
   "codemirror_mode": {
    "name": "ipython",
    "version": 3
   },
   "file_extension": ".py",
   "mimetype": "text/x-python",
   "name": "python",
   "nbconvert_exporter": "python",
   "pygments_lexer": "ipython3",
   "version": "3.9.5"
  }
 },
 "nbformat": 4,
 "nbformat_minor": 5
}
