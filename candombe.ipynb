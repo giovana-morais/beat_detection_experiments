{
 "cells": [
  {
   "cell_type": "code",
   "execution_count": null,
   "id": "cc2d2763",
   "metadata": {},
   "outputs": [],
   "source": [
    "import glob\n",
    "\n",
    "# import essentia\n",
    "# import essentia.standard as es\n",
    "import librosa\n",
    "import librosa.display\n",
    "import madmom\n",
    "import matplotlib.pyplot as plt\n",
    "import mir_eval\n",
    "import numpy as np\n",
    "import pandas as pd\n",
    "\n",
    "import IPython.display as ipd\n",
    "plt.rcParams[\"figure.figsize\"] = (15,10)"
   ]
  },
  {
   "cell_type": "code",
   "execution_count": null,
   "id": "37eaa60f",
   "metadata": {},
   "outputs": [],
   "source": [
    "import utils"
   ]
  },
  {
   "cell_type": "code",
   "execution_count": null,
   "id": "b6c89113",
   "metadata": {},
   "outputs": [],
   "source": [
    "# CONSTANTS\n",
    "FS = 44100"
   ]
  },
  {
   "cell_type": "code",
   "execution_count": null,
   "id": "a63d6668",
   "metadata": {},
   "outputs": [],
   "source": [
    "# dataset available in https://www.eumus.edu.uy/candombe/datasets/ISMIR2015/dataset.html\n",
    "file_path = [i[:-4] for i in glob.glob('../datasets/candombe/*.wav')]"
   ]
  },
  {
   "cell_type": "code",
   "execution_count": null,
   "id": "b3e7fac0",
   "metadata": {
    "scrolled": true
   },
   "outputs": [],
   "source": [
    "if glob.glob('candombe_analysis.csv') == []:\n",
    "\n",
    "    dataset_result = {}\n",
    "    #madmom_beat_processor = madmom.features.downbeats.RNNDownBeatProcessor(num_threads=4)\n",
    "    #madmom_beat_decoder = madmom.features.downbeats.DBNDownBeatTrackingProcessor(beats_per_bar=[4], fps=100)\n",
    "\n",
    "    for file in file_path:\n",
    "        print(f\"processing {file}\")\n",
    "        x, fs = librosa.load(f\"{file}.wav\", mono=True, sr=FS)\n",
    "        x_df = pd.read_csv(f\"{file}.csv\", names=[\"timestamp\", \"beat\"])\n",
    "        ground_truth = x_df['timestamp'].values\n",
    "\n",
    "        # calculate the beats using librosa approach\n",
    "        bpm, beat_frame = librosa.beat.beat_track(x, FS)\n",
    "        librosa_timestamps = librosa.frames_to_time(beat_frame, FS)\n",
    "        #madmom_track = madmom_beat_decoder(madmom_beat_processor(f\"{file}.wav\"))\n",
    "        #madmom_timestamps, madmom_beats = madmom_track[:, 0], madmom_track[:, 1]\n",
    "        \n",
    "        cmlc_librosa, cmlt_librosa, amlc_librosa, amlt_librosa = mir_eval.beat.continuity(ground_truth, librosa_timestamps)\n",
    "        #cmlc_madmom, cmlt_madmom, amlc_madmom, amlt_madmom = mir_eval.beat.continuity(ground_truth, madmom_timestamps)\n",
    "\n",
    "        dataset_result[file]= {\n",
    "            \"ground_truth_beats\": x_df['timestamp'].values,\n",
    "            \"librosa_beats\": librosa_timestamps,\n",
    "            \"f_score_librosa\": mir_eval.beat.f_measure(ground_truth, librosa_timestamps),\n",
    "            \"p_score_librosa\": mir_eval.beat.p_score(ground_truth, librosa_timestamps),\n",
    "            #\"f_score_madmom\": mir_eval.beat.f_measure(ground_truth, madmom_timestamps),\n",
    "            #\"p_score_madmom\": mir_eval.beat.p_score(ground_truth, madmom_timestamps),\n",
    "            # the ratio of the longest continuously correct segment to the lengtho f the input\n",
    "            \"cmlc_librosa\": cmlc_librosa,\n",
    "            #\"cmlc_madmom\": cmlc_madmom,\n",
    "            # the total number of correct beats at the correct metrical level\n",
    "            \"cmlt_librosa\": cmlt_librosa,\n",
    "            #\"cmlt_madmom\": cmlt_madmom,\n",
    "            \"amlc_librosa\": amlc_librosa,\n",
    "            #\"amlc_madmom\": amlc_madmom,\n",
    "            \"amlt_librosa\": amlt_librosa,\n",
    "            #\"amlt_madmom\": amlt_madmom,\n",
    "            # cria uma janela gaussiana e avalia o quão próximo (de 0 a 1) a marcação está do\n",
    "            # valor de referência\n",
    "            \"cemgil_librosa\": mir_eval.beat.cemgil(ground_truth, librosa_timestamps, cemgil_sigma=0.04),\n",
    "            #\"cemgil_madmom\": mir_eval.beat.cemgil(ground_truth, madmom_timestamps, cemgil_sigma=0.04),\n",
    "            \"bpm_librosa\": bpm\n",
    "        }\n",
    "    \n",
    "    #pd.DataFrame(dataset_result).transpose().reset_index().to_csv(\"candombe_analysis.csv\", index=False)\n",
    "    pd.DataFrame(dataset_result).to_csv(\"candombe_analysis.csv\")\n",
    "else:\n",
    "    print(\"loading file\")\n",
    "    candombe_csv = pd.read_csv(\"candombe_analysis.csv\", index_col=0)\n",
    "    dataset_results = candombe_csv.to_dict()\n",
    "    "
   ]
  },
  {
   "cell_type": "markdown",
   "id": "c411b245",
   "metadata": {},
   "source": [
    "Perguntas\n",
    "- o que significa um método detectar menos beats do que outro?\n",
    "    - talvez esteja errando os primeiros beats?\n",
    "- os métodos \"erram\" de maneira consistente?"
   ]
  },
  {
   "cell_type": "code",
   "execution_count": null,
   "id": "39d98d93",
   "metadata": {},
   "outputs": [],
   "source": [
    "# ordering from worse to best f-score\n",
    "dataset_result = {k: v for k, v in sorted(dataset_results.items(), key=lambda item: item[1][\"f_score_librosa\"])}"
   ]
  },
  {
   "cell_type": "code",
   "execution_count": null,
   "id": "8b7164e6",
   "metadata": {},
   "outputs": [],
   "source": [
    "for i in dataset_result.items():\n",
    "    print(f'{i[0]} -> {i[1][\"f_score_librosa\"]}')"
   ]
  },
  {
   "cell_type": "markdown",
   "id": "0407d53b",
   "metadata": {},
   "source": [
    "# worst f-score songs analysis"
   ]
  },
  {
   "cell_type": "markdown",
   "id": "033dec6f",
   "metadata": {},
   "source": [
    "## csic.1995_ansina2_04 <a class=\"anchor\" id=\"csic-1995-ansina2-04\"></a>"
   ]
  },
  {
   "cell_type": "code",
   "execution_count": null,
   "id": "64c8a395",
   "metadata": {},
   "outputs": [],
   "source": [
    "song = '../datasets/candombe/csic.1995_ansina2_04'\n",
    "\n",
    "x, fs = librosa.load(f\"{song}.wav\", mono=True, sr=FS)\n",
    "\n",
    "tmp = dataset_result[song]\n",
    "\n",
    "wrong_click_sound = np.sin(2*np.pi*np.arange(FS*.1)*500/(1.*FS))\n",
    "wrong_click_sound *= np.exp(-np.arange(FS*.1)/(FS*.01)) # exponential decay\n",
    "\n",
    "clicks_truth = mir_eval.sonify.clicks(tmp[\"ground_truth_beats\"], FS, click=None, length=len(x))\n",
    "wrong_clicks = mir_eval.sonify.clicks(tmp[\"librosa_beats\"], FS, click=wrong_click_sound, length=len(x))"
   ]
  },
  {
   "cell_type": "code",
   "execution_count": null,
   "id": "75a620ba",
   "metadata": {},
   "outputs": [],
   "source": [
    "ipd.Audio(x, rate=FS)"
   ]
  },
  {
   "cell_type": "code",
   "execution_count": null,
   "id": "23921314",
   "metadata": {},
   "outputs": [],
   "source": [
    "tmp.keys()"
   ]
  },
  {
   "cell_type": "code",
   "execution_count": null,
   "id": "12e00cc9",
   "metadata": {},
   "outputs": [],
   "source": [
    "tmp['p_score_librosa'], tmp['f_score_librosa'], tmp['cmlt_librosa']"
   ]
  },
  {
   "cell_type": "code",
   "execution_count": null,
   "id": "87e81e5d",
   "metadata": {},
   "outputs": [],
   "source": [
    "ipd.Audio(x+clicks_truth, rate=FS)"
   ]
  },
  {
   "cell_type": "code",
   "execution_count": null,
   "id": "38858d9a",
   "metadata": {},
   "outputs": [],
   "source": [
    "ipd.Audio(x+clicks_truth+wrong_clicks, rate=FS)"
   ]
  },
  {
   "cell_type": "code",
   "execution_count": null,
   "id": "108b1eb1",
   "metadata": {},
   "outputs": [],
   "source": [
    "ipd.Audio(x+wrong_clicks, rate=FS)"
   ]
  },
  {
   "cell_type": "code",
   "execution_count": null,
   "id": "59bc01ed",
   "metadata": {},
   "outputs": [],
   "source": [
    "utils.plot_comparison(x, FS, tmp['ground_truth_beats'], tmp['librosa_beats'], 10, 13)"
   ]
  },
  {
   "cell_type": "markdown",
   "id": "5e18bcb8",
   "metadata": {},
   "source": [
    "### onset detection using subbands"
   ]
  },
  {
   "cell_type": "code",
   "execution_count": null,
   "id": "96a09442",
   "metadata": {},
   "outputs": [],
   "source": [
    "# calculate onset on each subband\n",
    "onset_subbands = librosa.onset.onset_strength_multi(y=x, sr=FS, channels=[0, 32, 64, 96, 128])\n",
    "\n",
    "_, beat_frame_0 = librosa.beat.beat_track(onset_envelope=onset_subbands[0], sr=FS)\n",
    "librosa_timestamps_0 = librosa.frames_to_time(beat_frame_0, FS)\n",
    "\n",
    "_, beat_frame_1 = librosa.beat.beat_track(onset_envelope=onset_subbands[1], sr=FS)\n",
    "librosa_timestamps_1 = librosa.frames_to_time(beat_frame_1, FS)\n",
    "\n",
    "_, beat_frame_2 = librosa.beat.beat_track(onset_envelope=onset_subbands[2], sr=FS)\n",
    "librosa_timestamps_2 = librosa.frames_to_time(beat_frame_2, FS)\n",
    "\n",
    "_, beat_frame_3 = librosa.beat.beat_track(onset_envelope=onset_subbands[3], sr=FS)\n",
    "librosa_timestamps_3 = librosa.frames_to_time(beat_frame_3, FS)\n",
    "\n",
    "start = 5\n",
    "end = 10\n",
    "\n",
    "fig, ax = plt.subplots(nrows=1, sharex=True)\n",
    "ax.plot(x[start*fs:end*fs], label='waveform')\n",
    "\n",
    "ax.vlines(\n",
    "    (tmp[\"ground_truth_beats\"][(tmp[\"ground_truth_beats\"] >= start) & (tmp[\"ground_truth_beats\"] <= end)]-start)*fs, \n",
    "          0, 1, alpha=0.5, color='r', linestyle='--', label='groundtruth'\n",
    ")\n",
    "\n",
    "ax.vlines(\n",
    "    (librosa_timestamps_0[(librosa_timestamps_0 >= start) & (librosa_timestamps_0 <= end)]-start)*fs, \n",
    "    0, 1, alpha=0.5, color='g', linestyle='--', label='subband_0')\n",
    "\n",
    "ax.vlines(\n",
    "    (librosa_timestamps_1[(librosa_timestamps_1 >= start) & (librosa_timestamps_1 <= end)]-start)*fs, \n",
    "    0, 1, alpha=0.5, color='b', linestyle='--', label='subband_1')\n",
    "\n",
    "ax.vlines(\n",
    "    (librosa_timestamps_2[(librosa_timestamps_2 >= start) & (librosa_timestamps_2 <= end)]-start)*fs, \n",
    "    0, 1, alpha=0.5, color='b', linestyle='dotted', label='subband_2')\n",
    "ax.vlines(\n",
    "    (librosa_timestamps_3[(librosa_timestamps_3 >= start) & (librosa_timestamps_3 <= end)]-start)*fs, \n",
    "    0, 1, alpha=0.5, color='g', linestyle='-.', label='subband_3')\n",
    "\n",
    "ax.legend()"
   ]
  },
  {
   "cell_type": "code",
   "execution_count": null,
   "id": "7ddc7148",
   "metadata": {},
   "outputs": [],
   "source": [
    "onset_subbands = librosa.onset.onset_strength_multi(y=x, sr=FS, channels=[0, 64, 128])\n",
    "onset_subbands.shape"
   ]
  },
  {
   "cell_type": "code",
   "execution_count": null,
   "id": "3b5d786f",
   "metadata": {},
   "outputs": [],
   "source": [
    "_, beat_frame_0 = librosa.beat.beat_track(onset_envelope=onset_subbands[0], sr=FS)\n",
    "librosa_timestamps_0 = librosa.frames_to_time(beat_frame_0, FS)\n",
    "\n",
    "_, beat_frame_1 = librosa.beat.beat_track(onset_envelope=onset_subbands[1], sr=FS)\n",
    "librosa_timestamps_1 = librosa.frames_to_time(beat_frame_1, FS)\n",
    "\n",
    "start = 5\n",
    "end = 10\n",
    "\n",
    "fig, ax = plt.subplots(nrows=1, sharex=True)\n",
    "ax.plot(x[start*fs:end*fs], label='waveform')\n",
    "\n",
    "ax.vlines(\n",
    "    (tmp[\"ground_truth_beats\"][(tmp[\"ground_truth_beats\"] >= start) & (tmp[\"ground_truth_beats\"] <= end)]-start)*fs, \n",
    "          0, 1, alpha=0.5, color='r', linestyle='--', label='groundtruth'\n",
    ")\n",
    "\n",
    "ax.vlines(\n",
    "    (librosa_timestamps_0[(librosa_timestamps_0 >= start) & (librosa_timestamps_0 <= end)]-start)*fs, \n",
    "    0, 1, alpha=0.5, color='g', linestyle='--', label='subband_0')\n",
    "\n",
    "ax.vlines(\n",
    "    (librosa_timestamps_1[(librosa_timestamps_1 >= start) & (librosa_timestamps_1 <= end)]-start)*fs, \n",
    "    0, 1, alpha=0.5, color='b', linestyle='--', label='subband_1')\n",
    "\n",
    "ax.legend()"
   ]
  },
  {
   "cell_type": "code",
   "execution_count": null,
   "id": "27c06e32",
   "metadata": {},
   "outputs": [],
   "source": [
    "D = np.abs(librosa.stft(x))\n",
    "\n",
    "fig, ax = plt.subplots(nrows=2, sharex=True)\n",
    "\n",
    "img1 = librosa.display.specshow(librosa.amplitude_to_db(D, ref=np.max),\n",
    "                         y_axis='log', x_axis='time', ax=ax[0])\n",
    "ax[0].set(title='Power spectrogram')\n",
    "ax[0].label_outer()\n",
    "fig.colorbar(img1, ax=[ax[0]], format=\"%+2.f dB\")\n",
    "\n",
    "img2 = librosa.display.specshow(onset_subbands, x_axis='time', ax=ax[1])\n",
    "ax[1].set(ylabel='Sub-bands', title='Sub-band onset strength')\n",
    "fig.colorbar(img2, ax=[ax[1]])"
   ]
  },
  {
   "cell_type": "code",
   "execution_count": null,
   "id": "dca651c9",
   "metadata": {},
   "outputs": [],
   "source": [
    "mir_eval.beat.continuity(tmp['ground_truth_beats'], librosa_timestamps_0)"
   ]
  },
  {
   "cell_type": "code",
   "execution_count": null,
   "id": "1e7a88a7",
   "metadata": {},
   "outputs": [],
   "source": [
    "mir_eval.beat.f_measure(tmp['ground_truth_beats'], librosa_timestamps_0), tmp['f_score_librosa']"
   ]
  },
  {
   "cell_type": "code",
   "execution_count": null,
   "id": "eac2879b",
   "metadata": {},
   "outputs": [],
   "source": [
    "mir_eval.beat.f_measure(tmp['ground_truth_beats'], librosa_timestamps_1), tmp['f_score_librosa']"
   ]
  },
  {
   "cell_type": "code",
   "execution_count": null,
   "id": "4dedb334",
   "metadata": {},
   "outputs": [],
   "source": [
    "mir_eval.beat.f_measure(tmp['ground_truth_beats'], librosa_timestamps_2), tmp['f_score_librosa']"
   ]
  },
  {
   "cell_type": "code",
   "execution_count": null,
   "id": "841c0cf9",
   "metadata": {},
   "outputs": [],
   "source": [
    "mir_eval.beat.continuity(tmp['ground_truth_beats'], librosa_timestamps_2)"
   ]
  },
  {
   "cell_type": "code",
   "execution_count": null,
   "id": "ab3004d0",
   "metadata": {},
   "outputs": [],
   "source": [
    "mir_eval.beat.f_measure(tmp['ground_truth_beats'], librosa_timestamps_3), tmp['f_score_librosa']"
   ]
  },
  {
   "cell_type": "markdown",
   "id": "e404b7b3",
   "metadata": {},
   "source": [
    "## csic.1995_ansina2_01.wav <a class=\"anchor\" id=\"csic-1995-ansina2-01\"></a>"
   ]
  },
  {
   "cell_type": "code",
   "execution_count": null,
   "id": "f24f5d26",
   "metadata": {},
   "outputs": [],
   "source": [
    "song = '../datasets/candombe/csic.1995_ansina2_01'\n",
    "\n",
    "x, fs = librosa.load(f\"{song}.wav\", mono=True, sr=FS)\n",
    "\n",
    "tmp = dataset_result[song]\n",
    "\n",
    "wrong_click_sound = np.sin(2*np.pi*np.arange(FS*.1)*500/(1.*FS))\n",
    "wrong_click_sound *= np.exp(-np.arange(FS*.1)/(FS*.01)) # exponential decay\n",
    "\n",
    "clicks_truth = mir_eval.sonify.clicks(tmp[\"ground_truth_beats\"], FS, click=None, length=len(x))\n",
    "wrong_clicks = mir_eval.sonify.clicks(tmp[\"librosa_beats\"], FS, click=wrong_click_sound, length=len(x))"
   ]
  },
  {
   "cell_type": "code",
   "execution_count": null,
   "id": "1600350a",
   "metadata": {},
   "outputs": [],
   "source": [
    "teste = tmp[\"ground_truth_beats\"][tmp[\"ground_truth_beats\"] <= 10]"
   ]
  },
  {
   "cell_type": "code",
   "execution_count": null,
   "id": "aaca7039",
   "metadata": {},
   "outputs": [],
   "source": [
    "onset_env = librosa.onset.onset_strength(y=x[0:10*44100], sr=FS)\n",
    "times = librosa.times_like(onset_env, sr=FS)\n",
    "\n",
    "_, beats = librosa.beat.beat_track(onset_envelope = onset_env, sr=FS)\n",
    "beats = librosa.frames_to_time(beats, FS)\n",
    "\n",
    "plt.vlines(beats[beats <= 10], 0, 1, alpha=0.5, color='r', linestyle='--', label='librosa')\n",
    "plt.vlines(teste, 0, 1, alpha=0.5, color='g', linestyle='--', label='truth')\n",
    "plt.plot(times, librosa.util.normalize(onset_env), label='novelty function')\n",
    "plt.legend()"
   ]
  },
  {
   "cell_type": "code",
   "execution_count": null,
   "id": "2265ae3d",
   "metadata": {},
   "outputs": [],
   "source": [
    "utils.plot_comparison(x, FS, tmp['ground_truth_beats'], tmp['librosa_beats'], 0, 10)"
   ]
  },
  {
   "cell_type": "code",
   "execution_count": null,
   "id": "7fe8abcf",
   "metadata": {},
   "outputs": [],
   "source": [
    "utils.plot_comparison(x, FS, tmp['ground_truth_beats'], tmp['librosa_beats'], 0, 10)"
   ]
  },
  {
   "cell_type": "code",
   "execution_count": null,
   "id": "197d4eee",
   "metadata": {},
   "outputs": [],
   "source": [
    "X = np.abs(librosa.stft(x[:20*FS]))\n",
    "\n",
    "S_db = librosa.amplitude_to_db(np.abs(X), ref=np.max)\n",
    "\n",
    "librosa.display.specshow(S_db, x_axis='time', y_axis='log')"
   ]
  },
  {
   "cell_type": "code",
   "execution_count": null,
   "id": "4630a83e",
   "metadata": {},
   "outputs": [],
   "source": [
    "ipd.Audio(x, rate=FS)"
   ]
  },
  {
   "cell_type": "code",
   "execution_count": null,
   "id": "d82551a9",
   "metadata": {},
   "outputs": [],
   "source": [
    "ipd.Audio(x+clicks_truth+wrong_clicks, rate=FS)"
   ]
  },
  {
   "cell_type": "code",
   "execution_count": null,
   "id": "923d9059",
   "metadata": {},
   "outputs": [],
   "source": [
    "ipd.Audio(x+clicks_truth, rate=FS)"
   ]
  },
  {
   "cell_type": "code",
   "execution_count": null,
   "id": "8ae0fd93",
   "metadata": {},
   "outputs": [],
   "source": [
    "ipd.Audio(x+wrong_clicks, rate=FS)"
   ]
  },
  {
   "cell_type": "code",
   "execution_count": null,
   "id": "78cde0fd",
   "metadata": {},
   "outputs": [],
   "source": [
    "# good performance song\n",
    "# \n",
    "song = '../datasets/candombe/zavala.muniz.2014_52'\n",
    "\n",
    "x, fs = librosa.load(f\"{song}.wav\", mono=True, sr=FS)\n",
    "\n",
    "tmp = dataset_result[song]\n",
    "\n",
    "wrong_click_sound = np.sin(2*np.pi*np.arange(FS*.1)*500/(1.*FS))\n",
    "wrong_click_sound *= np.exp(-np.arange(FS*.1)/(FS*.01)) # exponential decay\n",
    "\n",
    "clicks_truth = mir_eval.sonify.clicks(tmp[\"ground_truth_beats\"], FS, click=None, length=len(x))\n",
    "wrong_clicks = mir_eval.sonify.clicks(tmp[\"librosa_beats\"], FS, click=wrong_click_sound, length=len(x))"
   ]
  },
  {
   "cell_type": "code",
   "execution_count": null,
   "id": "d2e07c55",
   "metadata": {},
   "outputs": [],
   "source": [
    "utils.plot_comparison(x, FS, tmp['ground_truth_beats'], tmp['librosa_beats'], 37, 47)"
   ]
  },
  {
   "cell_type": "code",
   "execution_count": null,
   "id": "609832b2",
   "metadata": {},
   "outputs": [],
   "source": [
    "utils.plot_comparison(x, FS, tmp['ground_truth_beats'], tmp['librosa_beats'], 45, 47)"
   ]
  },
  {
   "cell_type": "code",
   "execution_count": null,
   "id": "1b00aa6a",
   "metadata": {},
   "outputs": [],
   "source": [
    "ipd.Audio(x, rate=FS)"
   ]
  },
  {
   "cell_type": "code",
   "execution_count": null,
   "id": "ffaaae36",
   "metadata": {},
   "outputs": [],
   "source": [
    "ipd.Audio(x+clicks_truth, rate=FS)"
   ]
  },
  {
   "cell_type": "code",
   "execution_count": null,
   "id": "a4f65957",
   "metadata": {},
   "outputs": [],
   "source": [
    "ipd.Audio(x+wrong_clicks, rate=FS)"
   ]
  },
  {
   "cell_type": "code",
   "execution_count": null,
   "id": "9fde1df8",
   "metadata": {},
   "outputs": [],
   "source": [
    "ipd.Audio(x+wrong_clicks+clicks_truth, rate=FS)"
   ]
  }
 ],
 "metadata": {
  "kernelspec": {
   "display_name": "Python 3 (ipykernel)",
   "language": "python",
   "name": "python3"
  },
  "language_info": {
   "codemirror_mode": {
    "name": "ipython",
    "version": 3
   },
   "file_extension": ".py",
   "mimetype": "text/x-python",
   "name": "python",
   "nbconvert_exporter": "python",
   "pygments_lexer": "ipython3",
   "version": "3.9.7"
  }
 },
 "nbformat": 4,
 "nbformat_minor": 5
}
