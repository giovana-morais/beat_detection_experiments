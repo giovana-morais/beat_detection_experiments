{
 "cells": [
  {
   "cell_type": "code",
   "execution_count": null,
   "id": "cc2d2763",
   "metadata": {},
   "outputs": [],
   "source": [
    "import glob\n",
    "\n",
    "import essentia\n",
    "import librosa\n",
    "import librosa.display\n",
    "import matplotlib.pyplot as plt\n",
    "import mir_eval\n",
    "import numpy as np\n",
    "import pandas as pd\n",
    "# from tdqm import tdqm\n",
    "\n",
    "import IPython.display as ipd\n",
    "plt.rcParams[\"figure.figsize\"] = (15,5)"
   ]
  },
  {
   "cell_type": "code",
   "execution_count": null,
   "id": "15950a33",
   "metadata": {},
   "outputs": [],
   "source": [
    "def plot_comparison(x, fs, expected_beats, librosa_beats, start=0, end=50):\n",
    "    fig, ax = plt.subplots(nrows=1, sharex=True)\n",
    "    ax.plot(x[start*fs:end*fs], label='waveform')\n",
    "\n",
    "    ax.vlines(\n",
    "        (expected_beats[(expected_beats >= start) & (expected_beats <= end)]-start)*fs, \n",
    "              0, 1, alpha=0.5, color='r', linestyle='--', label='groundtruth'\n",
    "    )\n",
    "    ax.vlines(\n",
    "        (librosa_beats[(librosa_beats >= start) & (librosa_beats <= end)]-start)*fs, \n",
    "        0, 1, alpha=0.5, color='g', linestyle='--', label='librosa')\n",
    "\n",
    "    ax.legend()"
   ]
  },
  {
   "cell_type": "code",
   "execution_count": null,
   "id": "10a07f7b",
   "metadata": {},
   "outputs": [],
   "source": [
    "# CONSTANTS\n",
    "FS = 44100"
   ]
  },
  {
   "cell_type": "code",
   "execution_count": null,
   "id": "a63d6668",
   "metadata": {},
   "outputs": [],
   "source": [
    "# dataset available in https://www.eumus.edu.uy/candombe/datasets/ISMIR2015/dataset.html\n",
    "file_path = [i[:-4] for i in glob.glob('../datasets/candombe/*.wav')]"
   ]
  },
  {
   "cell_type": "code",
   "execution_count": null,
   "id": "d6988538",
   "metadata": {},
   "outputs": [],
   "source": [
    "dataset_result = {}\n",
    "\n",
    "for file in file_path: #tqdm (file_path, desc=\"Loading...\"):\n",
    "    print(f\"processing {file}\")\n",
    "    x, fs = librosa.load(f\"{file}.wav\", mono=True, sr=FS)\n",
    "    x_df = pd.read_csv(f\"{file}.csv\", names=[\"timestamp\", \"beat\"])\n",
    "\n",
    "    # calculate the beats using librosa approach\n",
    "    _, beat_frame = librosa.beat.beat_track(x, FS)\n",
    "    librosa_timestamps = librosa.frames_to_time(beat_frame, FS)\n",
    "\n",
    "    # keep the notation the same as the dataset\n",
    "    librosa_beats = [(i%4+1)/10 + (i//4) for i in range(len(librosa_timestamps))]\n",
    "\n",
    "    librosa_df = pd.DataFrame({\"librosa_timestamp\": librosa_timestamps, \"librosa_beat\": librosa_beats})\n",
    "    results_df = x_df.join(librosa_df)\n",
    "\n",
    "    results_df['diff'] = results_df['timestamp'] - results_df[\"librosa_timestamp\"]\n",
    "\n",
    "    # if the difference between groundtruth and algorithm anotation are < 50ms, we should consider it correct \n",
    "    results_df['correct'] = results_df['diff'] < 0.5\n",
    "    results_df.dropna(inplace=True)\n",
    "\n",
    "    # pull all the results together in one place\n",
    "    dataset_result[file]= {\n",
    "        #\"results_df\": results_df, \n",
    "        #\"stats\": results_df[\"diff\"].describe(), \n",
    "        #\"mean_diff\": results_df[\"diff\"].describe()[\"mean\"],\n",
    "        #\"max_diff\": results_df[\"diff\"].describe()[\"max\"],\n",
    "        #\"std_diff\": results_df[\"diff\"].describe()[\"std\"],\n",
    "        #\"median_diff\": results_df[\"diff\"].median(),\n",
    "        \"ground_truth_beats\": results_df['timestamp'].values,\n",
    "        \"librosa_beats\": results_df['librosa_timestamp'].values,\n",
    "        \"f_score\": mir_eval.beat.f_measure(results_df['timestamp'].values, results_df['librosa_timestamp'].values),\n",
    "        \"p_score\": mir_eval.beat.p_score(results_df['timestamp'].values, results_df['librosa_timestamp'].values)\n",
    "    }"
   ]
  },
  {
   "cell_type": "code",
   "execution_count": null,
   "id": "39d98d93",
   "metadata": {},
   "outputs": [],
   "source": [
    "# ordering from worse to best f-score\n",
    "dataset_result = {k: v for k, v in sorted(dataset_result.items(), key=lambda item: item[1][\"f_score\"])}"
   ]
  },
  {
   "cell_type": "code",
   "execution_count": null,
   "id": "8b7164e6",
   "metadata": {},
   "outputs": [],
   "source": [
    "for i in dataset_result.items():\n",
    "    print(f'{i[0]} -> {i[1][\"f_score\"]}')"
   ]
  },
  {
   "cell_type": "code",
   "execution_count": null,
   "id": "9473d754",
   "metadata": {},
   "outputs": [],
   "source": [
    "x, fs = librosa.load(\"../datasets/candombe/csic.1995_ansina2_04.wav\", mono=True, sr=FS)"
   ]
  },
  {
   "cell_type": "code",
   "execution_count": null,
   "id": "fda0f935",
   "metadata": {},
   "outputs": [],
   "source": [
    "tmp = dataset_result[\"../datasets/candombe/csic.1995_ansina2_04\"]"
   ]
  },
  {
   "cell_type": "code",
   "execution_count": null,
   "id": "4195e2fc",
   "metadata": {},
   "outputs": [],
   "source": [
    "clicks_truth = mir_eval.sonify.clicks(tmp[\"ground_truth_beats\"], FS, click=None, length=len(x))\n",
    "\n",
    "wrong_click = np.sin(2*np.pi*np.arange(FS*.1)*500/(1.*FS))\n",
    "# Exponential decay\n",
    "wrong_click *= np.exp(-np.arange(FS*.1)/(FS*.01))\n",
    "\n",
    "wrong_clicks = mir_eval.sonify.clicks(tmp[\"librosa_beats\"], FS, click=wrong_click, length=len(x))"
   ]
  },
  {
   "cell_type": "code",
   "execution_count": null,
   "id": "38858d9a",
   "metadata": {},
   "outputs": [],
   "source": [
    "ipd.Audio(x+clicks_truth+wrong_clicks, rate=FS)"
   ]
  },
  {
   "cell_type": "code",
   "execution_count": null,
   "id": "4f99a5a5",
   "metadata": {},
   "outputs": [],
   "source": [
    "ipd.Audio(x+clicks_truth, rate=FS)"
   ]
  },
  {
   "cell_type": "code",
   "execution_count": null,
   "id": "108b1eb1",
   "metadata": {},
   "outputs": [],
   "source": [
    "ipd.Audio(x+wrong_clicks, rate=FS)"
   ]
  },
  {
   "cell_type": "code",
   "execution_count": null,
   "id": "ed29268f",
   "metadata": {},
   "outputs": [],
   "source": [
    "# TODO: montar uma visualização que seja mostrada na função novidade em vez de na forma de onda\n",
    "# TODO: fazer a mesma comparação utilizando a função de beat tracking do essentia "
   ]
  }
 ],
 "metadata": {
  "kernelspec": {
   "display_name": "Python 3",
   "language": "python",
   "name": "python3"
  },
  "language_info": {
   "codemirror_mode": {
    "name": "ipython",
    "version": 3
   },
   "file_extension": ".py",
   "mimetype": "text/x-python",
   "name": "python",
   "nbconvert_exporter": "python",
   "pygments_lexer": "ipython3",
   "version": "3.8.6"
  }
 },
 "nbformat": 4,
 "nbformat_minor": 5
}
