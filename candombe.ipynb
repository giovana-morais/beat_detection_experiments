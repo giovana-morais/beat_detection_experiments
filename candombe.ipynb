{
 "cells": [
  {
   "cell_type": "code",
   "execution_count": null,
   "id": "cc2d2763",
   "metadata": {},
   "outputs": [],
   "source": [
    "import glob\n",
    "\n",
    "# import essentia\n",
    "# import essentia.standard as es\n",
    "import librosa\n",
    "import librosa.display\n",
    "import matplotlib.pyplot as plt\n",
    "import mir_eval\n",
    "import numpy as np\n",
    "import pandas as pd\n",
    "\n",
    "import IPython.display as ipd\n",
    "plt.rcParams[\"figure.figsize\"] = (15,5)"
   ]
  },
  {
   "cell_type": "code",
   "execution_count": null,
   "id": "15950a33",
   "metadata": {},
   "outputs": [],
   "source": [
    "def plot_comparison(x, fs, expected_beats, librosa_beats, start=0, end=50):\n",
    "    fig, ax = plt.subplots(nrows=1, sharex=True)\n",
    "    ax.plot(x[start*fs:end*fs], label='waveform')\n",
    "\n",
    "    ax.vlines(\n",
    "        (expected_beats[(expected_beats >= start) & (expected_beats <= end)]-start)*fs, \n",
    "              0, 1, alpha=0.5, color='r', linestyle='--', label='groundtruth'\n",
    "    )\n",
    "    ax.vlines(\n",
    "        (librosa_beats[(librosa_beats >= start) & (librosa_beats <= end)]-start)*fs, \n",
    "        0, 1, alpha=0.5, color='g', linestyle='--', label='librosa')\n",
    "\n",
    "    ax.legend()"
   ]
  },
  {
   "cell_type": "code",
   "execution_count": null,
   "id": "10a07f7b",
   "metadata": {},
   "outputs": [],
   "source": [
    "# CONSTANTS\n",
    "FS = 44100"
   ]
  },
  {
   "cell_type": "code",
   "execution_count": null,
   "id": "a63d6668",
   "metadata": {},
   "outputs": [],
   "source": [
    "# dataset available in https://www.eumus.edu.uy/candombe/datasets/ISMIR2015/dataset.html\n",
    "file_path = [i[:-4] for i in glob.glob('../datasets/candombe/*.wav')]"
   ]
  },
  {
   "cell_type": "code",
   "execution_count": null,
   "id": "72efd28d",
   "metadata": {},
   "outputs": [],
   "source": [
    "beat_multi_feature = es.BeatTrackerMultiFeature()\n",
    "beat_degara = es.BeatTrackerDegara()"
   ]
  },
  {
   "cell_type": "code",
   "execution_count": null,
   "id": "d6988538",
   "metadata": {},
   "outputs": [],
   "source": [
    "dataset_result = {}\n",
    "\n",
    "for file in file_path:\n",
    "    print(f\"processing {file}\")\n",
    "    x, fs = librosa.load(f\"{file}.wav\", mono=True, sr=FS)\n",
    "    x_df = pd.read_csv(f\"{file}.csv\", names=[\"timestamp\", \"beat\"])\n",
    "    ground_truth = x_df['timestamp'].values\n",
    "\n",
    "    # calculate the beats using librosa approach\n",
    "    _, beat_frame = librosa.beat.beat_track(x, FS)\n",
    "    librosa_timestamps = librosa.frames_to_time(beat_frame, FS)\n",
    "    \n",
    "    #essentia_multi_feature, _ = beat_multi_feature(x)\n",
    "    #essentia_degara = beat_degara(x)\n",
    "\n",
    "    dataset_result[file]= {\n",
    "        \"ground_truth_beats\": x_df['timestamp'].values,\n",
    "        \"librosa_beats\": librosa_timestamps,\n",
    "        \"f_score_librosa\": mir_eval.beat.f_measure(ground_truth, librosa_timestamps),\n",
    "        \"p_score_librosa\": mir_eval.beat.p_score(ground_truth, librosa_timestamps),\n",
    "#         \"multi_feature_beats\": essentia_multi_feature,\n",
    "#         \"degara_beats\": essentia_degara,\n",
    "#         \"f_score_multi_beat\": mir_eval.beat.f_measure(ground_truth, essentia_multi_feature),\n",
    "#         \"p_score_multi_beat\": mir_eval.beat.p_score(ground_truth, essentia_multi_feature),\n",
    "#         \"f_score_degara\": mir_eval.beat.f_measure(ground_truth, essentia_degara),\n",
    "#         \"p_score_degara\": mir_eval.beat.p_score(ground_truth, essentia_degara),\n",
    "    }"
   ]
  },
  {
   "cell_type": "code",
   "execution_count": null,
   "id": "39d98d93",
   "metadata": {},
   "outputs": [],
   "source": [
    "# ordering from worse to best f-score\n",
    "dataset_result = {k: v for k, v in sorted(dataset_result.items(), key=lambda item: item[1][\"f_score\"])}"
   ]
  },
  {
   "cell_type": "code",
   "execution_count": null,
   "id": "8b7164e6",
   "metadata": {},
   "outputs": [],
   "source": [
    "for i in dataset_result.items():\n",
    "    print(f'{i[0]} -> {i[1][\"f_score\"]}')"
   ]
  },
  {
   "cell_type": "code",
   "execution_count": null,
   "id": "9473d754",
   "metadata": {},
   "outputs": [],
   "source": [
    "x, fs = librosa.load(\"../datasets/candombe/csic.1995_ansina2_04.wav\", mono=True, sr=FS)"
   ]
  },
  {
   "cell_type": "code",
   "execution_count": null,
   "id": "fda0f935",
   "metadata": {},
   "outputs": [],
   "source": [
    "tmp = dataset_result[\"../datasets/candombe/csic.1995_ansina2_04\"]"
   ]
  },
  {
   "cell_type": "code",
   "execution_count": null,
   "id": "f36ed8fe",
   "metadata": {},
   "outputs": [],
   "source": [
    "wrong_click_sound = np.sin(2*np.pi*np.arange(FS*.1)*500/(1.*FS))\n",
    "wrong_click_sound *= np.exp(-np.arange(FS*.1)/(FS*.01)) # exponential decay"
   ]
  },
  {
   "cell_type": "code",
   "execution_count": null,
   "id": "4195e2fc",
   "metadata": {},
   "outputs": [],
   "source": [
    "clicks_truth = mir_eval.sonify.clicks(tmp[\"ground_truth_beats\"], FS, click=None, length=len(x))\n",
    "wrong_clicks = mir_eval.sonify.clicks(tmp[\"librosa_beats\"], FS, click=wrong_click_sound, length=len(x))"
   ]
  },
  {
   "cell_type": "code",
   "execution_count": null,
   "id": "38858d9a",
   "metadata": {},
   "outputs": [],
   "source": [
    "ipd.Audio(x+clicks_truth+wrong_clicks, rate=FS)"
   ]
  },
  {
   "cell_type": "code",
   "execution_count": null,
   "id": "4f99a5a5",
   "metadata": {},
   "outputs": [],
   "source": [
    "ipd.Audio(x+clicks_truth, rate=FS)"
   ]
  },
  {
   "cell_type": "code",
   "execution_count": null,
   "id": "108b1eb1",
   "metadata": {},
   "outputs": [],
   "source": [
    "ipd.Audio(x+wrong_clicks, rate=FS)"
   ]
  }
 ],
 "metadata": {
  "kernelspec": {
   "display_name": "Python 3",
   "language": "python",
   "name": "python3"
  },
  "language_info": {
   "codemirror_mode": {
    "name": "ipython",
    "version": 3
   },
   "file_extension": ".py",
   "mimetype": "text/x-python",
   "name": "python",
   "nbconvert_exporter": "python",
   "pygments_lexer": "ipython3",
   "version": "3.8.6"
  }
 },
 "nbformat": 4,
 "nbformat_minor": 5
}
