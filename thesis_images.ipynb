{
 "cells": [
  {
   "cell_type": "code",
   "execution_count": null,
   "id": "fcee70eb",
   "metadata": {},
   "outputs": [],
   "source": [
    "import matplotlib.pyplot as plt\n",
    "import numpy as np\n",
    "import librosa\n",
    "import librosa.display\n",
    "import seaborn as sns"
   ]
  },
  {
   "cell_type": "code",
   "execution_count": null,
   "id": "3ce07616",
   "metadata": {},
   "outputs": [],
   "source": [
    "import IPython.display as ipd"
   ]
  },
  {
   "cell_type": "code",
   "execution_count": null,
   "id": "b9e6949d",
   "metadata": {},
   "outputs": [],
   "source": [
    "x, sr = librosa.load(librosa.example(\"trumpet\"), sr=None)"
   ]
  },
  {
   "cell_type": "code",
   "execution_count": null,
   "id": "1bd452e0",
   "metadata": {},
   "outputs": [],
   "source": [
    "x = x[0:int(3.5*sr)]"
   ]
  },
  {
   "cell_type": "code",
   "execution_count": null,
   "id": "0ebb4de3",
   "metadata": {},
   "outputs": [],
   "source": [
    "ipd.Audio(x, rate=sr)"
   ]
  },
  {
   "cell_type": "code",
   "execution_count": null,
   "id": "e513051e",
   "metadata": {},
   "outputs": [],
   "source": [
    "sns.set(style='whitegrid')\n",
    "plt.style.use('seaborn-darkgrid')\n",
    "plt.rcParams[\"figure.figsize\"] = (15,10)"
   ]
  },
  {
   "cell_type": "markdown",
   "id": "54cc375b",
   "metadata": {},
   "source": [
    "# Forma de Onda "
   ]
  },
  {
   "cell_type": "code",
   "execution_count": null,
   "id": "5505a8b6",
   "metadata": {},
   "outputs": [],
   "source": [
    "librosa.display.waveshow(x)"
   ]
  },
  {
   "cell_type": "markdown",
   "id": "fe456173",
   "metadata": {},
   "source": [
    "# DFT e frequências"
   ]
  },
  {
   "cell_type": "code",
   "execution_count": null,
   "id": "21d68fd7",
   "metadata": {},
   "outputs": [],
   "source": [
    "spec = librosa.stft(x, n_fft=2048, hop_length=512)"
   ]
  },
  {
   "cell_type": "code",
   "execution_count": null,
   "id": "91914d03",
   "metadata": {},
   "outputs": [],
   "source": [
    "mag_spec = np.abs(spec)\n",
    "power_spec = mag_spec**2"
   ]
  },
  {
   "cell_type": "code",
   "execution_count": null,
   "id": "0aa481d2",
   "metadata": {},
   "outputs": [],
   "source": [
    "D = librosa.amplitude_to_db(mag_spec, ref=np.max)"
   ]
  },
  {
   "cell_type": "code",
   "execution_count": null,
   "id": "74fb84e2",
   "metadata": {},
   "outputs": [],
   "source": [
    "fig, ax = plt.subplots(3,1, figsize=(10, 8))\n",
    "librosa.display.waveshow(x, ax=ax[0])\n",
    "ax[0].title.set_text(\"Forma de onda\")\n",
    "\n",
    "librosa.display.specshow(D, x_axis=\"time\", y_axis=\"log\", ax=ax[1])\n",
    "ax[1].title.set_text(\"Espectrograma\")\n",
    "\n",
    "plt.tight_layout()\n",
    "fig.savefig(\"images/espectrograma.png\")"
   ]
  },
  {
   "cell_type": "code",
   "execution_count": null,
   "id": "ada13389",
   "metadata": {},
   "outputs": [],
   "source": []
  },
  {
   "cell_type": "markdown",
   "id": "3848a41b",
   "metadata": {},
   "source": [
    "# Função Novidade"
   ]
  },
  {
   "cell_type": "code",
   "execution_count": null,
   "id": "2f6659b4",
   "metadata": {},
   "outputs": [],
   "source": [
    "nov = librosa.onset.onset_strength(y=x, sr=sr, aggregate=np.median, hop_length=512)\n",
    "peaks = librosa.util.peak_pick(nov, pre_max=3, post_max=3, pre_avg=3, post_avg=5, delta=0.5, wait=10)\n",
    "times = librosa.times_like(nov, sr=sr, hop_length=512)"
   ]
  },
  {
   "cell_type": "code",
   "execution_count": null,
   "id": "c562c947",
   "metadata": {
    "scrolled": false
   },
   "outputs": [],
   "source": [
    "fig, ax = plt.subplots(nrows=2, figsize=(10,8))\n",
    "librosa.display.waveshow(x, ax=ax[0])\n",
    "ax[0].set_title(\"Forma de onda\")\n",
    "ax[0].set_xlabel(\"Tempo (s)\")\n",
    "\n",
    "ax[1].plot(times, nov, label=\"Função novidade\")\n",
    "ax[1].vlines(times[peaks], 0, nov.max(), color='r', alpha=0.8, label=\"Picos\")\n",
    "ax[1].legend()\n",
    "ax[1].set_title(\"Fluxo espectral\")\n",
    "ax[1].set_xlabel(\"Tempo (s)\")\n",
    "plt.tight_layout()\n",
    "\n",
    "fig.savefig(\"images/onset.png\")"
   ]
  },
  {
   "cell_type": "code",
   "execution_count": null,
   "id": "731b22d1",
   "metadata": {},
   "outputs": [],
   "source": []
  },
  {
   "cell_type": "code",
   "execution_count": null,
   "id": "e363c9e0",
   "metadata": {},
   "outputs": [],
   "source": []
  }
 ],
 "metadata": {
  "kernelspec": {
   "display_name": "Python 3 (ipykernel)",
   "language": "python",
   "name": "python3"
  },
  "language_info": {
   "codemirror_mode": {
    "name": "ipython",
    "version": 3
   },
   "file_extension": ".py",
   "mimetype": "text/x-python",
   "name": "python",
   "nbconvert_exporter": "python",
   "pygments_lexer": "ipython3",
   "version": "3.10.4"
  }
 },
 "nbformat": 4,
 "nbformat_minor": 5
}
